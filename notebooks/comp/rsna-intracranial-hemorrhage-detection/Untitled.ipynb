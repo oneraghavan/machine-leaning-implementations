{
 "cells": [
  {
   "cell_type": "code",
   "execution_count": 2,
   "metadata": {},
   "outputs": [
    {
     "ename": "ModuleNotFoundError",
     "evalue": "No module named 'pydicom'",
     "output_type": "error",
     "traceback": [
      "\u001b[0;31m---------------------------------------------------------------------------\u001b[0m",
      "\u001b[0;31mModuleNotFoundError\u001b[0m                       Traceback (most recent call last)",
      "\u001b[0;32m<ipython-input-2-cdb6f5c84a76>\u001b[0m in \u001b[0;36m<module>\u001b[0;34m\u001b[0m\n\u001b[0;32m----> 1\u001b[0;31m \u001b[0;32mimport\u001b[0m \u001b[0mpydicom\u001b[0m\u001b[0;34m\u001b[0m\u001b[0;34m\u001b[0m\u001b[0m\n\u001b[0m\u001b[1;32m      2\u001b[0m \u001b[0;32mimport\u001b[0m \u001b[0mglob\u001b[0m\u001b[0;34m\u001b[0m\u001b[0;34m\u001b[0m\u001b[0m\n\u001b[1;32m      3\u001b[0m \u001b[0;34m\u001b[0m\u001b[0m\n\u001b[1;32m      4\u001b[0m \u001b[0minputdir\u001b[0m \u001b[0;34m=\u001b[0m \u001b[0;34m'/media/newhd/data/kaggle/rsna-intracranial-hemorrhage-detection/stage_1_test_images/'\u001b[0m\u001b[0;34m\u001b[0m\u001b[0;34m\u001b[0m\u001b[0m\n\u001b[1;32m      5\u001b[0m \u001b[0moutdir\u001b[0m \u001b[0;34m=\u001b[0m \u001b[0;34m'/media/newhd/data/kaggle/rsna-intracranial-hemorrhage-detection/images/'\u001b[0m\u001b[0;34m\u001b[0m\u001b[0;34m\u001b[0m\u001b[0m\n",
      "\u001b[0;31mModuleNotFoundError\u001b[0m: No module named 'pydicom'"
     ]
    }
   ],
   "source": [
    "import pydicom\n",
    "import glob\n",
    "\n",
    "inputdir = '/media/newhd/data/kaggle/rsna-intracranial-hemorrhage-detection/stage_1_test_images/'\n",
    "outdir = '/media/newhd/data/kaggle/rsna-intracranial-hemorrhage-detection/images/'\n",
    "\n",
    "!rm -rf /media/newhd/data/kaggle/rsna-intracranial-hemorrhage-detection/images/\n",
    "\n",
    "test_list = [os.path.basename(x) for x in glob.glob(inputdir + './*.dcm')]\n",
    "for f in test_list[:2]:  \n",
    "    ds = pydicom.read_file( inputdir + f) # read dicom image\n",
    "    img = ds.pixel_array # get image array\n",
    "#     img_mem = Image.fromarray(img) # Creates an image memory from an object exporting the array interface\n",
    "    print(img.shape)\n",
    "    \n",
    "#   There is an exception in Kaggle kernel about \"encoder jpeg2k not available\", please test following code on your local workstation\n",
    "#   img_mem.save(outdir + f.replace('.dcm','.jp2'))    "
   ]
  },
  {
   "cell_type": "code",
   "execution_count": null,
   "metadata": {},
   "outputs": [],
   "source": []
  }
 ],
 "metadata": {
  "kernelspec": {
   "display_name": "Python (fastai)",
   "language": "python",
   "name": "fastai"
  },
  "language_info": {
   "codemirror_mode": {
    "name": "ipython",
    "version": 3
   },
   "file_extension": ".py",
   "mimetype": "text/x-python",
   "name": "python",
   "nbconvert_exporter": "python",
   "pygments_lexer": "ipython3",
   "version": "3.7.4"
  }
 },
 "nbformat": 4,
 "nbformat_minor": 4
}
