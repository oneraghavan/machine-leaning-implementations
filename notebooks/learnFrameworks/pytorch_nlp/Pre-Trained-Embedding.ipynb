{
 "cells": [
  {
   "cell_type": "code",
   "execution_count": 25,
   "metadata": {},
   "outputs": [],
   "source": [
    "from annoy import AnnoyIndex\n",
    "import numpy as np"
   ]
  },
  {
   "cell_type": "code",
   "execution_count": 42,
   "metadata": {},
   "outputs": [],
   "source": [
    "class Pretrained_vectors(object):\n",
    "    def __init__(self,word_to_index,word_vectors):\n",
    "        \n",
    "        self.word_to_index = word_to_index\n",
    "        self.index_to_word = {v:k for k,v in word_to_index.items()}\n",
    "        print(self.index_to_word)\n",
    "        \n",
    "        self.word_vectors = word_vectors\n",
    "        \n",
    "        self.index = AnnoyIndex(len(word_vectors[0]),metric = 'euclidean')\n",
    "        print(\"Building Index!\")\n",
    "        for _, i in self.word_to_index.items():\n",
    "            try:\n",
    "                self.index.add_item(i, self.word_vectors[i])\n",
    "            except Exception as e:\n",
    "                print(e)\n",
    "        self.index.build(50)\n",
    "        print(\"Finished!\")\n",
    "        \n",
    "    @classmethod    \n",
    "    def create_from_embedding_file(cls,file_path):\n",
    "        \n",
    "        word_vectors = []\n",
    "        word_to_index = {}\n",
    "        \n",
    "        with open(file_path) as fp:\n",
    "            for line in fp.readlines():\n",
    "                word = line.split(\" \")[0]\n",
    "                vector = np.array([float(i) for i in line.split(\" \")[1:]])\n",
    "                \n",
    "                word_to_index[word] = len(word_vectors)\n",
    "                \n",
    "                word_vectors.append(vector)\n",
    "        \n",
    "        return cls(word_to_index,word_vectors)\n",
    "                \n",
    "    def find_closest_words(self,word,n=1):\n",
    "        \n",
    "        vector = self.word_vectors[self.word_to_index[word]]\n",
    "        \n",
    "        nn_indices = self.index.get_nns_by_vector(vector, n)\n",
    "        return [self.index_to_word[neighbor] for neighbor in nn_indices]\n",
    "\n",
    "    def find_closest_vectors(self,vector,n=1):\n",
    "        \n",
    "        nn_indices = self.index.get_nns_by_vector(vector, n)\n",
    "        return [self.index_to_word[neighbor] for neighbor in nn_indices]\n",
    "    \n",
    "    \n",
    "    def compute_and_print_analogy(self, word1, word2, word3):\n",
    "        \"\"\"Prints the solutions to analogies using word embeddings\n",
    "\n",
    "        Analogies are word1 is to word2 as word3 is to __\n",
    "        This method will print: word1 : word2 :: word3 : word4\n",
    "        \n",
    "        Args:\n",
    "            word1 (str)\n",
    "            word2 (str)\n",
    "            word3 (str)\n",
    "        \"\"\"\n",
    "        vec1 = self.word_vectors[self.word_to_index[word1]]\n",
    "        vec2 = self.word_vectors[self.word_to_index[word2]]\n",
    "        vec3 = self.word_vectors[self.word_to_index[word3]]\n",
    "\n",
    "        # now compute the fourth word's embedding!\n",
    "        spatial_relationship = vec2 - vec1\n",
    "        vec4 = vec3 + spatial_relationship\n",
    "\n",
    "        closest_words = self.find_closest_vectors(vec4, n=4)\n",
    "        existing_words = set([word1, word2, word3])\n",
    "        closest_words = [word for word in closest_words \n",
    "                             if word not in existing_words] \n",
    "\n",
    "        if len(closest_words) == 0:\n",
    "            print(\"Could not find nearest neighbors for the computed vector!\")\n",
    "            return\n",
    "        \n",
    "        for word4 in closest_words:\n",
    "            print(\"{} : {} :: {} : {}\".format(word1, word2, word3, word4))"
   ]
  },
  {
   "cell_type": "code",
   "execution_count": 43,
   "metadata": {},
   "outputs": [
    {
     "name": "stderr",
     "output_type": "stream",
     "text": [
      "IOPub data rate exceeded.\n",
      "The notebook server will temporarily stop sending output\n",
      "to the client in order to avoid crashing it.\n",
      "To change this limit, set the config variable\n",
      "`--NotebookApp.iopub_data_rate_limit`.\n",
      "\n",
      "Current values:\n",
      "NotebookApp.iopub_data_rate_limit=1000000.0 (bytes/sec)\n",
      "NotebookApp.rate_limit_window=3.0 (secs)\n",
      "\n"
     ]
    },
    {
     "name": "stdout",
     "output_type": "stream",
     "text": [
      "Finished!\n"
     ]
    }
   ],
   "source": [
    "glove_vectors = Pretrained_vectors.create_from_embedding_file(\"/home/raghavan/Downloads/glove.6B.50d.txt\")"
   ]
  },
  {
   "cell_type": "code",
   "execution_count": 44,
   "metadata": {},
   "outputs": [
    {
     "data": {
      "text/plain": [
       "['the', 'which', 'part', 'of', 'in', 'on']"
      ]
     },
     "execution_count": 44,
     "metadata": {},
     "output_type": "execute_result"
    }
   ],
   "source": [
    "glove_vectors.find_closest_words(\"the\",6)"
   ]
  },
  {
   "cell_type": "code",
   "execution_count": 45,
   "metadata": {},
   "outputs": [
    {
     "name": "stdout",
     "output_type": "stream",
     "text": [
      "man : he :: woman : she\n",
      "man : he :: woman : her\n",
      "man : he :: woman : having\n"
     ]
    }
   ],
   "source": [
    "glove_vectors.compute_and_print_analogy('man', 'he', 'woman')"
   ]
  },
  {
   "cell_type": "code",
   "execution_count": null,
   "metadata": {},
   "outputs": [],
   "source": []
  }
 ],
 "metadata": {
  "kernelspec": {
   "display_name": "Pytorchnlp",
   "language": "python",
   "name": "pytorchnlp"
  },
  "language_info": {
   "codemirror_mode": {
    "name": "ipython",
    "version": 3
   },
   "file_extension": ".py",
   "mimetype": "text/x-python",
   "name": "python",
   "nbconvert_exporter": "python",
   "pygments_lexer": "ipython3",
   "version": "3.7.4"
  }
 },
 "nbformat": 4,
 "nbformat_minor": 4
}
