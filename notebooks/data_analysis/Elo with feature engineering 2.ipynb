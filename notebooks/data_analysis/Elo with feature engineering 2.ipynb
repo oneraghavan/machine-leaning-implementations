{
 "cells": [
  {
   "cell_type": "code",
   "execution_count": 36,
   "metadata": {},
   "outputs": [],
   "source": [
    "import numpy as np\n",
    "import pandas as pd\n",
    "import datetime\n",
    "import gc\n",
    "import matplotlib.pyplot as plt\n",
    "import seaborn as sns\n",
    "import lightgbm as lgb\n",
    "from tqdm import tqdm\n",
    "from sklearn.model_selection import StratifiedKFold\n",
    "from sklearn.metrics import mean_squared_error\n",
    "import warnings\n",
    "warnings.filterwarnings('ignore')\n",
    "np.random.seed(4590)\n",
    "from scipy.stats import mode\n",
    "import swifter"
   ]
  },
  {
   "cell_type": "code",
   "execution_count": 37,
   "metadata": {
    "collapsed": true
   },
   "outputs": [],
   "source": [
    "df_train = pd.read_csv('../input/train.csv')\n",
    "df_test = pd.read_csv('../input/test.csv')\n",
    "df_hist_trans = pd.read_csv('../input/historical_transactions.csv')\n",
    "df_new_merchant_trans = pd.read_csv('../input/new_merchant_transactions.csv')"
   ]
  },
  {
   "cell_type": "code",
   "execution_count": 38,
   "metadata": {
    "collapsed": true
   },
   "outputs": [],
   "source": [
    "for df in [df_hist_trans,df_new_merchant_trans]:\n",
    "    df['category_2'].fillna(1.0,inplace=True)\n",
    "    df['category_3'].fillna('A',inplace=True)\n",
    "    df['merchant_id'].fillna('M_ID_00a6ca8a8a',inplace=True)\n"
   ]
  },
  {
   "cell_type": "code",
   "execution_count": 39,
   "metadata": {
    "scrolled": true
   },
   "outputs": [
    {
     "data": {
      "text/html": [
       "<div>\n",
       "<style scoped>\n",
       "    .dataframe tbody tr th:only-of-type {\n",
       "        vertical-align: middle;\n",
       "    }\n",
       "\n",
       "    .dataframe tbody tr th {\n",
       "        vertical-align: top;\n",
       "    }\n",
       "\n",
       "    .dataframe thead th {\n",
       "        text-align: right;\n",
       "    }\n",
       "</style>\n",
       "<table border=\"1\" class=\"dataframe\">\n",
       "  <thead>\n",
       "    <tr style=\"text-align: right;\">\n",
       "      <th></th>\n",
       "      <th>authorized_flag</th>\n",
       "      <th>card_id</th>\n",
       "      <th>city_id</th>\n",
       "      <th>category_1</th>\n",
       "      <th>installments</th>\n",
       "      <th>category_3</th>\n",
       "      <th>merchant_category_id</th>\n",
       "      <th>merchant_id</th>\n",
       "      <th>month_lag</th>\n",
       "      <th>purchase_amount</th>\n",
       "      <th>purchase_date</th>\n",
       "      <th>category_2</th>\n",
       "      <th>state_id</th>\n",
       "      <th>subsector_id</th>\n",
       "    </tr>\n",
       "  </thead>\n",
       "  <tbody>\n",
       "    <tr>\n",
       "      <th>0</th>\n",
       "      <td>Y</td>\n",
       "      <td>C_ID_4e6213e9bc</td>\n",
       "      <td>88</td>\n",
       "      <td>N</td>\n",
       "      <td>0</td>\n",
       "      <td>A</td>\n",
       "      <td>80</td>\n",
       "      <td>M_ID_e020e9b302</td>\n",
       "      <td>-8</td>\n",
       "      <td>-0.703331</td>\n",
       "      <td>2017-06-25 15:33:07</td>\n",
       "      <td>1.0</td>\n",
       "      <td>16</td>\n",
       "      <td>37</td>\n",
       "    </tr>\n",
       "    <tr>\n",
       "      <th>1</th>\n",
       "      <td>Y</td>\n",
       "      <td>C_ID_4e6213e9bc</td>\n",
       "      <td>88</td>\n",
       "      <td>N</td>\n",
       "      <td>0</td>\n",
       "      <td>A</td>\n",
       "      <td>367</td>\n",
       "      <td>M_ID_86ec983688</td>\n",
       "      <td>-7</td>\n",
       "      <td>-0.733128</td>\n",
       "      <td>2017-07-15 12:10:45</td>\n",
       "      <td>1.0</td>\n",
       "      <td>16</td>\n",
       "      <td>16</td>\n",
       "    </tr>\n",
       "    <tr>\n",
       "      <th>2</th>\n",
       "      <td>Y</td>\n",
       "      <td>C_ID_4e6213e9bc</td>\n",
       "      <td>88</td>\n",
       "      <td>N</td>\n",
       "      <td>0</td>\n",
       "      <td>A</td>\n",
       "      <td>80</td>\n",
       "      <td>M_ID_979ed661fc</td>\n",
       "      <td>-6</td>\n",
       "      <td>-0.720386</td>\n",
       "      <td>2017-08-09 22:04:29</td>\n",
       "      <td>1.0</td>\n",
       "      <td>16</td>\n",
       "      <td>37</td>\n",
       "    </tr>\n",
       "    <tr>\n",
       "      <th>3</th>\n",
       "      <td>Y</td>\n",
       "      <td>C_ID_4e6213e9bc</td>\n",
       "      <td>88</td>\n",
       "      <td>N</td>\n",
       "      <td>0</td>\n",
       "      <td>A</td>\n",
       "      <td>560</td>\n",
       "      <td>M_ID_e6d5ae8ea6</td>\n",
       "      <td>-5</td>\n",
       "      <td>-0.735352</td>\n",
       "      <td>2017-09-02 10:06:26</td>\n",
       "      <td>1.0</td>\n",
       "      <td>16</td>\n",
       "      <td>34</td>\n",
       "    </tr>\n",
       "    <tr>\n",
       "      <th>4</th>\n",
       "      <td>Y</td>\n",
       "      <td>C_ID_4e6213e9bc</td>\n",
       "      <td>88</td>\n",
       "      <td>N</td>\n",
       "      <td>0</td>\n",
       "      <td>A</td>\n",
       "      <td>80</td>\n",
       "      <td>M_ID_e020e9b302</td>\n",
       "      <td>-11</td>\n",
       "      <td>-0.722865</td>\n",
       "      <td>2017-03-10 01:14:19</td>\n",
       "      <td>1.0</td>\n",
       "      <td>16</td>\n",
       "      <td>37</td>\n",
       "    </tr>\n",
       "  </tbody>\n",
       "</table>\n",
       "</div>"
      ],
      "text/plain": [
       "  authorized_flag  \\\n",
       "0               Y   \n",
       "1               Y   \n",
       "2               Y   \n",
       "3               Y   \n",
       "4               Y   \n",
       "\n",
       "           card_id  \\\n",
       "0  C_ID_4e6213e9bc   \n",
       "1  C_ID_4e6213e9bc   \n",
       "2  C_ID_4e6213e9bc   \n",
       "3  C_ID_4e6213e9bc   \n",
       "4  C_ID_4e6213e9bc   \n",
       "\n",
       "   city_id  \\\n",
       "0       88   \n",
       "1       88   \n",
       "2       88   \n",
       "3       88   \n",
       "4       88   \n",
       "\n",
       "  category_1  \\\n",
       "0          N   \n",
       "1          N   \n",
       "2          N   \n",
       "3          N   \n",
       "4          N   \n",
       "\n",
       "   installments  \\\n",
       "0             0   \n",
       "1             0   \n",
       "2             0   \n",
       "3             0   \n",
       "4             0   \n",
       "\n",
       "  category_3  \\\n",
       "0          A   \n",
       "1          A   \n",
       "2          A   \n",
       "3          A   \n",
       "4          A   \n",
       "\n",
       "   merchant_category_id  \\\n",
       "0                    80   \n",
       "1                   367   \n",
       "2                    80   \n",
       "3                   560   \n",
       "4                    80   \n",
       "\n",
       "       merchant_id  \\\n",
       "0  M_ID_e020e9b302   \n",
       "1  M_ID_86ec983688   \n",
       "2  M_ID_979ed661fc   \n",
       "3  M_ID_e6d5ae8ea6   \n",
       "4  M_ID_e020e9b302   \n",
       "\n",
       "   month_lag  \\\n",
       "0         -8   \n",
       "1         -7   \n",
       "2         -6   \n",
       "3         -5   \n",
       "4        -11   \n",
       "\n",
       "   purchase_amount  \\\n",
       "0        -0.703331   \n",
       "1        -0.733128   \n",
       "2        -0.720386   \n",
       "3        -0.735352   \n",
       "4        -0.722865   \n",
       "\n",
       "         purchase_date  \\\n",
       "0  2017-06-25 15:33:07   \n",
       "1  2017-07-15 12:10:45   \n",
       "2  2017-08-09 22:04:29   \n",
       "3  2017-09-02 10:06:26   \n",
       "4  2017-03-10 01:14:19   \n",
       "\n",
       "   category_2  \\\n",
       "0         1.0   \n",
       "1         1.0   \n",
       "2         1.0   \n",
       "3         1.0   \n",
       "4         1.0   \n",
       "\n",
       "   state_id  \\\n",
       "0        16   \n",
       "1        16   \n",
       "2        16   \n",
       "3        16   \n",
       "4        16   \n",
       "\n",
       "   subsector_id  \n",
       "0            37  \n",
       "1            16  \n",
       "2            37  \n",
       "3            34  \n",
       "4            37  "
      ]
     },
     "execution_count": 39,
     "metadata": {},
     "output_type": "execute_result"
    }
   ],
   "source": [
    "df_hist_trans.head()"
   ]
  },
  {
   "cell_type": "code",
   "execution_count": 40,
   "metadata": {
    "collapsed": true
   },
   "outputs": [],
   "source": [
    "agg = {\n",
    "    \"numerical_1\":['sum','max','min','mean','var'],\n",
    "    \"numerical_2\":['sum','max','min','mean','var'],\n",
    "    \"category_1\":{\"mode\" : lambda x : pd.Series.mode(x)[0]},\n",
    "    \"most_recent_sales_range\":{\"mode\" : lambda x : pd.Series.mode(x)[0]},\n",
    "    \"most_recent_purchases_range\":{\"mode\" : lambda x : pd.Series.mode(x)[0]},\n",
    "    \"avg_sales_lag3\":['sum','max','min','mean','var'],\n",
    "    \"avg_purchases_lag3\":['sum','max','min','mean','var'],\n",
    "    \"active_months_lag3\":['sum','max','min','mean','var'],\n",
    "    \"avg_sales_lag6\":['sum','max','min','mean','var'],\n",
    "    \"avg_purchases_lag6\":['sum','max','min','mean','var'],\n",
    "    \"active_months_lag6\":['sum','max','min','mean','var'],\n",
    "    \"avg_sales_lag12\":['sum','max','min','mean','var'],    \n",
    "    \"avg_purchases_lag12\":['sum','max','min','mean','var'],    \n",
    "    \"active_months_lag12\":['sum','max','min','mean','var'],\n",
    "    \"category_4\":{\"mode\" : lambda x : pd.Series.mode(x)},\n",
    "    \"category_2\":{\"mode\" : lambda x : pd.Series.mode(x)},\n",
    "    }"
   ]
  },
  {
   "cell_type": "code",
   "execution_count": 41,
   "metadata": {
    "scrolled": true
   },
   "outputs": [
    {
     "data": {
      "text/plain": [
       "14"
      ]
     },
     "execution_count": 41,
     "metadata": {},
     "output_type": "execute_result"
    }
   ],
   "source": [
    "len(df_hist_trans.columns.tolist())"
   ]
  },
  {
   "cell_type": "code",
   "execution_count": 42,
   "metadata": {
    "collapsed": true
   },
   "outputs": [],
   "source": [
    "holidays = np.asarray([np.datetime64(date) for date in ['2017-01-01','2017-02-27','2017-02-28','2017-03-01','2017-04-14','2017-04-16','2017-04-21','2017-05-01','2017-06-15','2017-09-07','2017-10-12','2017-11-02','2017-11-15','2017-12-25','2018-01-01','2018-02-12','2018-02-13','2018-03-30','2018-04-21','2018-05-01','2018-05-31','2018-09-07','2018-10-12','2018-11-02','2018-11-15','2018-11-20','2018-12-25']])\n",
    "seasons = [0,0,0,1,1,1,2,2,2,4,4,4]\n",
    "\n",
    "def closest_holiday_days(x):\n",
    "    deltas = holidays - np.datetime64(x)\n",
    "    vect_abs = np.vectorize(abs)\n",
    "    vect_days = np.vectorize(lambda x: x)\n",
    "    absed = vect_abs(vect_days(deltas))\n",
    "    return min(absed).item().days"
   ]
  },
  {
   "cell_type": "code",
   "execution_count": 43,
   "metadata": {
    "collapsed": true
   },
   "outputs": [],
   "source": [
    "def is_in_business_hours(x):\n",
    "    if (x >= 9) and (x <= 20 ):\n",
    "        return 1\n",
    "    else:\n",
    "        return 0   \n",
    "\n",
    "def is_close_to_pay_day(x):\n",
    "    if (x > 27) or (x < 4):\n",
    "        return 1\n",
    "    else:\n",
    "        return 0\n",
    "\n",
    "from math import ceil\n",
    "\n",
    "def week_of_month(dt):\n",
    "    \"\"\" Returns the week of the month for the specified date.\n",
    "    \"\"\"\n",
    "\n",
    "    first_day = dt.replace(day=1)\n",
    "\n",
    "    dom = dt.day\n",
    "    adjusted_dom = dom + first_day.weekday()\n",
    "\n",
    "    return int(ceil(adjusted_dom/7.0))    "
   ]
  },
  {
   "cell_type": "code",
   "execution_count": 44,
   "metadata": {},
   "outputs": [
    {
     "data": {
      "text/plain": [
       "1"
      ]
     },
     "execution_count": 44,
     "metadata": {},
     "output_type": "execute_result"
    }
   ],
   "source": [
    "is_close_to_pay_day(28)"
   ]
  },
  {
   "cell_type": "code",
   "execution_count": 45,
   "metadata": {},
   "outputs": [
    {
     "name": "stdout",
     "output_type": "stream",
     "text": [
      "281 µs ± 22 µs per loop (mean ± std. dev. of 7 runs, 1000 loops each)\n"
     ]
    }
   ],
   "source": [
    "%timeit closest_holiday_days(datetime.datetime.today())"
   ]
  },
  {
   "cell_type": "code",
   "execution_count": 46,
   "metadata": {
    "scrolled": true
   },
   "outputs": [
    {
     "name": "stdout",
     "output_type": "stream",
     "text": [
      "processsed purchase_date\n",
      "year\n",
      "wof\n",
      "month\n"
     ]
    },
    {
     "data": {
      "application/vnd.jupyter.widget-view+json": {
       "model_id": "0414f5eaf51f48c19ae4e5bd5f084c3a",
       "version_major": 2,
       "version_minor": 0
      },
      "text/plain": [
       "HBox(children=(IntProgress(value=0, description='Dask Apply', max=32), HTML(value='')))"
      ]
     },
     "metadata": {},
     "output_type": "display_data"
    },
    {
     "name": "stdout",
     "output_type": "stream",
     "text": [
      "\n",
      "season\n"
     ]
    },
    {
     "data": {
      "application/vnd.jupyter.widget-view+json": {
       "model_id": "529a1820db784ec0949dbc3cb7776d5e",
       "version_major": 2,
       "version_minor": 0
      },
      "text/plain": [
       "HBox(children=(IntProgress(value=0, description='Dask Apply', max=32), HTML(value='')))"
      ]
     },
     "metadata": {},
     "output_type": "display_data"
    },
    {
     "name": "stdout",
     "output_type": "stream",
     "text": [
      "\n",
      "holiday\n",
      "dayofweek\n",
      "weekend\n",
      "hour\n"
     ]
    },
    {
     "data": {
      "application/vnd.jupyter.widget-view+json": {
       "model_id": "68e54d6077864ea0992cc4919b8dfd50",
       "version_major": 2,
       "version_minor": 0
      },
      "text/plain": [
       "HBox(children=(IntProgress(value=0, description='Dask Apply', max=32), HTML(value='')))"
      ]
     },
     "metadata": {},
     "output_type": "display_data"
    },
    {
     "name": "stdout",
     "output_type": "stream",
     "text": [
      "\n",
      "weekofmonth\n",
      "AF\n",
      "cat_1\n",
      "month_diff\n",
      "processsed purchase_date\n",
      "year\n",
      "wof\n",
      "month\n"
     ]
    },
    {
     "data": {
      "application/vnd.jupyter.widget-view+json": {
       "model_id": "9d85f6fdd5254329a9720bc4c4fd5f8c",
       "version_major": 2,
       "version_minor": 0
      },
      "text/plain": [
       "HBox(children=(IntProgress(value=0, description='Dask Apply', max=32), HTML(value='')))"
      ]
     },
     "metadata": {},
     "output_type": "display_data"
    },
    {
     "name": "stdout",
     "output_type": "stream",
     "text": [
      "\n",
      "season\n"
     ]
    },
    {
     "data": {
      "application/vnd.jupyter.widget-view+json": {
       "model_id": "09373dcf5fdb43d5905602709a62bafc",
       "version_major": 2,
       "version_minor": 0
      },
      "text/plain": [
       "HBox(children=(IntProgress(value=0, description='Dask Apply', max=32), HTML(value='')))"
      ]
     },
     "metadata": {},
     "output_type": "display_data"
    },
    {
     "name": "stdout",
     "output_type": "stream",
     "text": [
      "\n",
      "holiday\n",
      "dayofweek\n",
      "weekend\n",
      "hour\n"
     ]
    },
    {
     "data": {
      "application/vnd.jupyter.widget-view+json": {
       "model_id": "6a9998e3525942c38a5bcde64460bb5f",
       "version_major": 2,
       "version_minor": 0
      },
      "text/plain": [
       "HBox(children=(IntProgress(value=0, description='Dask Apply', max=32), HTML(value='')))"
      ]
     },
     "metadata": {},
     "output_type": "display_data"
    },
    {
     "name": "stdout",
     "output_type": "stream",
     "text": [
      "\n",
      "weekofmonth\n",
      "AF\n",
      "cat_1\n",
      "month_diff\n"
     ]
    }
   ],
   "source": [
    "import dask.dataframe as dd\n",
    "\n",
    "# df_hist_trans = df_hist_trans.head(10000)\n",
    "# df_new_merchant_trans = df_new_merchant_trans.head(10000)\n",
    "\n",
    "tqdm.pandas()\n",
    "\n",
    "\n",
    "for df in [df_hist_trans,df_new_merchant_trans]:\n",
    "    df['purchase_date'] = pd.to_datetime(df['purchase_date'])    \n",
    "    print(\"processsed purchase_date\")\n",
    "    df['year'] = df['purchase_date'].dt.year\n",
    "    print(\"year\") \n",
    "    df['weekofyear'] = df['purchase_date'].dt.weekofyear\n",
    "    print(\"wof\")     \n",
    "    df['month'] = df['purchase_date'].dt.month\n",
    "    print(\"month\")         \n",
    "    df['season'] = df['month'].swifter.progress_bar(True).apply(lambda x:seasons[x-1])\n",
    "    print(\"season\")    \n",
    "    df['closest_date_to_holiday'] = df['purchase_date'].swifter.progress_bar(True).apply(closest_holiday_days)\n",
    "    print(\"holiday\")             \n",
    "    df['dayofweek'] = df['purchase_date'].dt.dayofweek\n",
    "    print(\"dayofweek\")    \n",
    "    df['weekend'] = (df.purchase_date.dt.weekday >=5).astype(int)\n",
    "    print(\"weekend\")        \n",
    "    df['hour'] = df['purchase_date'].dt.hour\n",
    "    print(\"hour\")    \n",
    "    df['weekofmonth'] = df['purchase_date'].swifter.progress_bar(True).apply(week_of_month)\n",
    "    print('weekofmonth')    \n",
    "#     df['is_in_business_hours'] = df['hour'].progress_apply(is_in_business_hours)\n",
    "#     print('is_in_business_hours')\n",
    "#     df['is_close_to_pay_day'] = df['month'].progress_apply(is_close_to_pay_day)\n",
    "#     print('is_close_to_pay_day')    \n",
    "    df['authorized_flag'] = df['authorized_flag'].map({'Y':1, 'N':0})\n",
    "    print(\"AF\")            \n",
    "    df['category_1'] = df['category_1'].map({'Y':1, 'N':0}) \n",
    "    print(\"cat_1\")    \n",
    "    #https://www.kaggle.com/c/elo-merchant-category-recommendation/discussion/73244\n",
    "    df['month_diff'] = ((datetime.datetime.today() - df['purchase_date']).dt.days)//30\n",
    "    print(\"month_diff\")                \n",
    "    df['month_diff'] += df['month_lag']"
   ]
  },
  {
   "cell_type": "code",
   "execution_count": 47,
   "metadata": {
    "collapsed": true
   },
   "outputs": [],
   "source": [
    "pd.set_option('display.width', -1)"
   ]
  },
  {
   "cell_type": "code",
   "execution_count": 64,
   "metadata": {},
   "outputs": [
    {
     "data": {
      "text/plain": [
       "['authorized_flag',\n",
       " 'card_id',\n",
       " 'city_id',\n",
       " 'category_1',\n",
       " 'installments',\n",
       " 'category_3',\n",
       " 'merchant_category_id',\n",
       " 'merchant_id',\n",
       " 'month_lag',\n",
       " 'purchase_amount',\n",
       " 'purchase_date',\n",
       " 'category_2',\n",
       " 'state_id',\n",
       " 'subsector_id',\n",
       " 'year',\n",
       " 'weekofyear',\n",
       " 'month',\n",
       " 'season',\n",
       " 'closest_date_to_holiday',\n",
       " 'dayofweek',\n",
       " 'weekend',\n",
       " 'hour',\n",
       " 'weekofmonth',\n",
       " 'month_diff',\n",
       " 'category_2_mean',\n",
       " 'category_3_mean']"
      ]
     },
     "execution_count": 64,
     "metadata": {},
     "output_type": "execute_result"
    }
   ],
   "source": [
    "df_hist_trans.columns.tolist()"
   ]
  },
  {
   "cell_type": "code",
   "execution_count": 49,
   "metadata": {
    "collapsed": true
   },
   "outputs": [],
   "source": [
    "def get_new_columns(name,aggs):\n",
    "    return [name + '_' + k + '_' + agg for k in aggs.keys() for agg in aggs[k]]"
   ]
  },
  {
   "cell_type": "code",
   "execution_count": 50,
   "metadata": {
    "collapsed": true
   },
   "outputs": [],
   "source": [
    "def write_df_hist():\n",
    "    df_hist_trans.to_csv(\"df_hist_trans.csv\")\n",
    "\n",
    "def new_merchant_trans():\n",
    "    df_new_merchant_trans.to_csv(\"df_new_merchant_trans.csv\")"
   ]
  },
  {
   "cell_type": "code",
   "execution_count": 51,
   "metadata": {
    "collapsed": true
   },
   "outputs": [],
   "source": [
    "from multiprocessing import Process\n",
    "p = Process(target=write_df_hist)\n",
    "p.start()\n",
    "\n",
    "# df_hist_trans.to_csv(\"df_hist_trans.csv\")\n",
    "# df_new_merchant_trans.to_csv(\"df_new_merchant_trans.csv\")"
   ]
  },
  {
   "cell_type": "code",
   "execution_count": 52,
   "metadata": {
    "collapsed": true
   },
   "outputs": [],
   "source": [
    "from multiprocessing import Process\n",
    "p = Process(target=new_merchant_trans)\n",
    "p.start()"
   ]
  },
  {
   "cell_type": "code",
   "execution_count": 53,
   "metadata": {
    "collapsed": true
   },
   "outputs": [],
   "source": [
    "# df_hist_trans = pd.read_csv(\"df_hist_trans.csv\")\n",
    "\n",
    "# df_new_merchant_trans = pd.read_csv(\"df_new_merchant_trans.csv\")"
   ]
  },
  {
   "cell_type": "code",
   "execution_count": 54,
   "metadata": {
    "collapsed": true
   },
   "outputs": [],
   "source": [
    "# df_train = pd.read_csv('../input/train.csv')\n",
    "# df_test = pd.read_csv('../input/test.csv')\n"
   ]
  },
  {
   "cell_type": "code",
   "execution_count": 61,
   "metadata": {
    "collapsed": true
   },
   "outputs": [],
   "source": [
    "pd.set_option('display.width', -1)"
   ]
  },
  {
   "cell_type": "code",
   "execution_count": 56,
   "metadata": {
    "collapsed": true
   },
   "outputs": [],
   "source": [
    "df_hist_trans['purchase_date'] = pd.to_datetime(df_hist_trans['purchase_date'])    \n",
    "df_new_merchant_trans['purchase_date'] = pd.to_datetime(df_new_merchant_trans['purchase_date'])    "
   ]
  },
  {
   "cell_type": "code",
   "execution_count": 63,
   "metadata": {},
   "outputs": [
    {
     "data": {
      "text/plain": [
       "['authorized_flag',\n",
       " 'card_id',\n",
       " 'city_id',\n",
       " 'category_1',\n",
       " 'installments',\n",
       " 'category_3',\n",
       " 'merchant_category_id',\n",
       " 'merchant_id',\n",
       " 'month_lag',\n",
       " 'purchase_amount',\n",
       " 'purchase_date',\n",
       " 'category_2',\n",
       " 'state_id',\n",
       " 'subsector_id',\n",
       " 'year',\n",
       " 'weekofyear',\n",
       " 'month',\n",
       " 'season',\n",
       " 'closest_date_to_holiday',\n",
       " 'dayofweek',\n",
       " 'weekend',\n",
       " 'hour',\n",
       " 'weekofmonth',\n",
       " 'month_diff',\n",
       " 'category_2_mean',\n",
       " 'category_3_mean']"
      ]
     },
     "execution_count": 63,
     "metadata": {},
     "output_type": "execute_result"
    }
   ],
   "source": [
    "df_hist_trans.columns.tolist()"
   ]
  },
  {
   "cell_type": "code",
   "execution_count": 58,
   "metadata": {},
   "outputs": [
    {
     "ename": "KeyError",
     "evalue": "\"Column 'avg_sales_lag3' does not exist!\"",
     "output_type": "error",
     "traceback": [
      "\u001b[0;31m---------------------------------------------------------------------------\u001b[0m",
      "\u001b[0;31mKeyError\u001b[0m                                  Traceback (most recent call last)",
      "\u001b[0;32m<ipython-input-58-c74d450095f0>\u001b[0m in \u001b[0;36m<module>\u001b[0;34m()\u001b[0m\n\u001b[1;32m     24\u001b[0m \u001b[0;34m\u001b[0m\u001b[0m\n\u001b[1;32m     25\u001b[0m \u001b[0mnew_columns\u001b[0m \u001b[0;34m=\u001b[0m \u001b[0mget_new_columns\u001b[0m\u001b[0;34m(\u001b[0m\u001b[0;34m'hist'\u001b[0m\u001b[0;34m,\u001b[0m\u001b[0maggs\u001b[0m\u001b[0;34m)\u001b[0m\u001b[0;34m\u001b[0m\u001b[0m\n\u001b[0;32m---> 26\u001b[0;31m \u001b[0mdf_hist_trans_group\u001b[0m \u001b[0;34m=\u001b[0m \u001b[0mdf_hist_trans\u001b[0m\u001b[0;34m.\u001b[0m\u001b[0mgroupby\u001b[0m\u001b[0;34m(\u001b[0m\u001b[0;34m'card_id'\u001b[0m\u001b[0;34m)\u001b[0m\u001b[0;34m.\u001b[0m\u001b[0magg\u001b[0m\u001b[0;34m(\u001b[0m\u001b[0maggs\u001b[0m\u001b[0;34m)\u001b[0m\u001b[0;34m\u001b[0m\u001b[0m\n\u001b[0m\u001b[1;32m     27\u001b[0m \u001b[0mdf_hist_trans_group\u001b[0m\u001b[0;34m.\u001b[0m\u001b[0mcolumns\u001b[0m \u001b[0;34m=\u001b[0m \u001b[0mnew_columns\u001b[0m\u001b[0;34m\u001b[0m\u001b[0m\n\u001b[1;32m     28\u001b[0m \u001b[0mdf_hist_trans_group\u001b[0m\u001b[0;34m.\u001b[0m\u001b[0mreset_index\u001b[0m\u001b[0;34m(\u001b[0m\u001b[0mdrop\u001b[0m\u001b[0;34m=\u001b[0m\u001b[0;32mFalse\u001b[0m\u001b[0;34m,\u001b[0m\u001b[0minplace\u001b[0m\u001b[0;34m=\u001b[0m\u001b[0;32mTrue\u001b[0m\u001b[0;34m)\u001b[0m\u001b[0;34m\u001b[0m\u001b[0m\n",
      "\u001b[0;32m~/anaconda2/envs/py36/lib/python3.6/site-packages/pandas/core/groupby/groupby.py\u001b[0m in \u001b[0;36maggregate\u001b[0;34m(self, arg, *args, **kwargs)\u001b[0m\n\u001b[1;32m   4654\u001b[0m         axis=''))\n\u001b[1;32m   4655\u001b[0m     \u001b[0;32mdef\u001b[0m \u001b[0maggregate\u001b[0m\u001b[0;34m(\u001b[0m\u001b[0mself\u001b[0m\u001b[0;34m,\u001b[0m \u001b[0marg\u001b[0m\u001b[0;34m,\u001b[0m \u001b[0;34m*\u001b[0m\u001b[0margs\u001b[0m\u001b[0;34m,\u001b[0m \u001b[0;34m**\u001b[0m\u001b[0mkwargs\u001b[0m\u001b[0;34m)\u001b[0m\u001b[0;34m:\u001b[0m\u001b[0;34m\u001b[0m\u001b[0m\n\u001b[0;32m-> 4656\u001b[0;31m         \u001b[0;32mreturn\u001b[0m \u001b[0msuper\u001b[0m\u001b[0;34m(\u001b[0m\u001b[0mDataFrameGroupBy\u001b[0m\u001b[0;34m,\u001b[0m \u001b[0mself\u001b[0m\u001b[0;34m)\u001b[0m\u001b[0;34m.\u001b[0m\u001b[0maggregate\u001b[0m\u001b[0;34m(\u001b[0m\u001b[0marg\u001b[0m\u001b[0;34m,\u001b[0m \u001b[0;34m*\u001b[0m\u001b[0margs\u001b[0m\u001b[0;34m,\u001b[0m \u001b[0;34m**\u001b[0m\u001b[0mkwargs\u001b[0m\u001b[0;34m)\u001b[0m\u001b[0;34m\u001b[0m\u001b[0m\n\u001b[0m\u001b[1;32m   4657\u001b[0m \u001b[0;34m\u001b[0m\u001b[0m\n\u001b[1;32m   4658\u001b[0m     \u001b[0magg\u001b[0m \u001b[0;34m=\u001b[0m \u001b[0maggregate\u001b[0m\u001b[0;34m\u001b[0m\u001b[0m\n",
      "\u001b[0;32m~/anaconda2/envs/py36/lib/python3.6/site-packages/pandas/core/groupby/groupby.py\u001b[0m in \u001b[0;36maggregate\u001b[0;34m(self, arg, *args, **kwargs)\u001b[0m\n\u001b[1;32m   4085\u001b[0m \u001b[0;34m\u001b[0m\u001b[0m\n\u001b[1;32m   4086\u001b[0m         \u001b[0m_level\u001b[0m \u001b[0;34m=\u001b[0m \u001b[0mkwargs\u001b[0m\u001b[0;34m.\u001b[0m\u001b[0mpop\u001b[0m\u001b[0;34m(\u001b[0m\u001b[0;34m'_level'\u001b[0m\u001b[0;34m,\u001b[0m \u001b[0;32mNone\u001b[0m\u001b[0;34m)\u001b[0m\u001b[0;34m\u001b[0m\u001b[0m\n\u001b[0;32m-> 4087\u001b[0;31m         \u001b[0mresult\u001b[0m\u001b[0;34m,\u001b[0m \u001b[0mhow\u001b[0m \u001b[0;34m=\u001b[0m \u001b[0mself\u001b[0m\u001b[0;34m.\u001b[0m\u001b[0m_aggregate\u001b[0m\u001b[0;34m(\u001b[0m\u001b[0marg\u001b[0m\u001b[0;34m,\u001b[0m \u001b[0m_level\u001b[0m\u001b[0;34m=\u001b[0m\u001b[0m_level\u001b[0m\u001b[0;34m,\u001b[0m \u001b[0;34m*\u001b[0m\u001b[0margs\u001b[0m\u001b[0;34m,\u001b[0m \u001b[0;34m**\u001b[0m\u001b[0mkwargs\u001b[0m\u001b[0;34m)\u001b[0m\u001b[0;34m\u001b[0m\u001b[0m\n\u001b[0m\u001b[1;32m   4088\u001b[0m         \u001b[0;32mif\u001b[0m \u001b[0mhow\u001b[0m \u001b[0;32mis\u001b[0m \u001b[0;32mNone\u001b[0m\u001b[0;34m:\u001b[0m\u001b[0;34m\u001b[0m\u001b[0m\n\u001b[1;32m   4089\u001b[0m             \u001b[0;32mreturn\u001b[0m \u001b[0mresult\u001b[0m\u001b[0;34m\u001b[0m\u001b[0m\n",
      "\u001b[0;32m~/anaconda2/envs/py36/lib/python3.6/site-packages/pandas/core/base.py\u001b[0m in \u001b[0;36m_aggregate\u001b[0;34m(self, arg, *args, **kwargs)\u001b[0m\n\u001b[1;32m    400\u001b[0m                             \u001b[0mk\u001b[0m \u001b[0;32mnot\u001b[0m \u001b[0;32min\u001b[0m \u001b[0mobj\u001b[0m\u001b[0;34m.\u001b[0m\u001b[0mcolumns\u001b[0m\u001b[0;34m:\u001b[0m\u001b[0;34m\u001b[0m\u001b[0m\n\u001b[1;32m    401\u001b[0m                         raise KeyError(\n\u001b[0;32m--> 402\u001b[0;31m                             \"Column '{col}' does not exist!\".format(col=k))\n\u001b[0m\u001b[1;32m    403\u001b[0m \u001b[0;34m\u001b[0m\u001b[0m\n\u001b[1;32m    404\u001b[0m                 \u001b[0marg\u001b[0m \u001b[0;34m=\u001b[0m \u001b[0mnew_arg\u001b[0m\u001b[0;34m\u001b[0m\u001b[0m\n",
      "\u001b[0;31mKeyError\u001b[0m: \"Column 'avg_sales_lag3' does not exist!\""
     ]
    }
   ],
   "source": [
    "aggs = {}\n",
    "for col in ['month','hour','weekofyear','dayofweek','year','subsector_id','merchant_id','merchant_category_id','city_id','state_id']:\n",
    "    aggs[col] = ['nunique']\n",
    "\n",
    "aggs['purchase_amount'] = ['sum','max','min','mean','var']\n",
    "aggs['installments'] = ['sum','max','min','mean','var']\n",
    "aggs['season'] = ['sum','max','min','mean','var']\n",
    "# aggs['is_in_business_hours'] = ['sum','max','min','mean','var']\n",
    "# aggs['is_close_to_pay_day'] = ['sum','max','min','mean','var']\n",
    "aggs[\"avg_sales_lag3\"] = ['sum','max','min','mean','var']\n",
    "aggs[\"avg_sales_lag6\"] = ['sum','max','min','mean','var']\n",
    "aggs['weekofmonth'] = ['sum','max','min','mean','var']\n",
    "aggs['closest_date_to_holiday'] = ['sum','max','min','mean','var']\n",
    "aggs['purchase_date'] = ['max','min']\n",
    "aggs['month_lag'] = ['max','min','mean','var']\n",
    "aggs['month_diff'] = ['mean']\n",
    "aggs['authorized_flag'] = ['sum', 'mean']\n",
    "aggs['weekend'] = ['sum', 'mean']\n",
    "aggs['category_1'] = ['sum', 'mean']\n",
    "aggs['card_id'] = ['size']\n",
    "\n",
    "for col in ['category_2','category_3']:\n",
    "    df_hist_trans[col+'_mean'] = df_hist_trans.groupby([col])['purchase_amount'].transform('mean')\n",
    "    aggs[col+'_mean'] = ['mean']    \n",
    "\n",
    "new_columns = get_new_columns('hist',aggs)\n",
    "df_hist_trans_group = df_hist_trans.groupby('card_id').agg(aggs)\n",
    "df_hist_trans_group.columns = new_columns\n",
    "df_hist_trans_group.reset_index(drop=False,inplace=True)\n",
    "df_hist_trans_group['hist_purchase_date_diff'] = (df_hist_trans_group['hist_purchase_date_max'] - df_hist_trans_group['hist_purchase_date_min']).dt.days\n",
    "df_hist_trans_group['hist_purchase_date_average'] = df_hist_trans_group['hist_purchase_date_diff']/df_hist_trans_group['hist_card_id_size']\n",
    "df_hist_trans_group['hist_purchase_date_uptonow'] = (datetime.datetime.today() - df_hist_trans_group['hist_purchase_date_max']).dt.days\n",
    "df_train = df_train.merge(df_hist_trans_group,on='card_id',how='left')\n",
    "df_test = df_test.merge(df_hist_trans_group,on='card_id',how='left')\n",
    "del df_hist_trans_group;gc.collect()"
   ]
  },
  {
   "cell_type": "code",
   "execution_count": null,
   "metadata": {},
   "outputs": [],
   "source": [
    "aggs = {}\n",
    "for col in ['month','hour','weekofyear','dayofweek','year','subsector_id','merchant_id','merchant_category_id','city_id','state_id']:\n",
    "    aggs[col] = ['nunique']\n",
    "aggs['purchase_amount'] = ['sum','max','min','mean','var']\n",
    "aggs['installments'] = ['sum','max','min','mean','var']\n",
    "aggs['season'] = ['sum','max','min','mean','var']\n",
    "# aggs['is_in_business_hours'] = ['sum','max','min','mean','var']\n",
    "# aggs['is_close_to_pay_day'] = ['sum','max','min','mean','var']\n",
    "aggs[\"avg_sales_lag3\"] = ['sum','max','min','mean','var'],\n",
    "aggs['weekofmonth'] = ['sum','max','min','mean','var']\n",
    "aggs['closest_date_to_holiday'] = ['sum','max','min','mean','var']\n",
    "aggs['purchase_date'] = ['max','min']\n",
    "aggs['month_lag'] = ['max','min','mean','var']\n",
    "aggs['month_diff'] = ['mean']\n",
    "aggs['weekend'] = ['sum', 'mean']\n",
    "aggs['category_1'] = ['sum', 'mean']\n",
    "aggs['card_id'] = ['size']\n",
    "\n",
    "for col in ['category_2','category_3']:\n",
    "    df_new_merchant_trans[col+'_mean'] = df_new_merchant_trans.groupby([col])['purchase_amount'].transform('mean')\n",
    "    aggs[col+'_mean'] = ['mean']\n",
    "    \n",
    "new_columns = get_new_columns('new_hist',aggs)\n",
    "df_hist_trans_group = df_new_merchant_trans.groupby('card_id').agg(aggs)\n",
    "df_hist_trans_group.columns = new_columns\n",
    "df_hist_trans_group.reset_index(drop=False,inplace=True)\n",
    "df_hist_trans_group['new_hist_purchase_date_diff'] = (df_hist_trans_group['new_hist_purchase_date_max'] - df_hist_trans_group['new_hist_purchase_date_min']).dt.days\n",
    "df_hist_trans_group['new_hist_purchase_date_average'] = df_hist_trans_group['new_hist_purchase_date_diff']/df_hist_trans_group['new_hist_card_id_size']\n",
    "df_hist_trans_group['new_hist_purchase_date_uptonow'] = (datetime.datetime.today() - df_hist_trans_group['new_hist_purchase_date_max']).dt.days\n",
    "df_train = df_train.merge(df_hist_trans_group,on='card_id',how='left')\n",
    "df_test = df_test.merge(df_hist_trans_group,on='card_id',how='left')\n",
    "del df_hist_trans_group;gc.collect()"
   ]
  },
  {
   "cell_type": "code",
   "execution_count": null,
   "metadata": {},
   "outputs": [],
   "source": [
    "del df_hist_trans;gc.collect()\n",
    "del df_new_merchant_trans;gc.collect()\n",
    "df_train.head(5)\n"
   ]
  },
  {
   "cell_type": "code",
   "execution_count": null,
   "metadata": {},
   "outputs": [],
   "source": [
    "df_train['outliers'] = 0\n",
    "df_train.loc[df_train['target'] < -30, 'outliers'] = 1\n",
    "df_train['outliers'].value_counts()"
   ]
  },
  {
   "cell_type": "code",
   "execution_count": null,
   "metadata": {
    "collapsed": true
   },
   "outputs": [],
   "source": [
    "for df in [df_train,df_test]:\n",
    "    df['first_active_month'] = pd.to_datetime(df['first_active_month'])\n",
    "    df['dayofweek'] = df['first_active_month'].dt.dayofweek\n",
    "    df['weekofyear'] = df['first_active_month'].dt.weekofyear\n",
    "    df['month'] = df['first_active_month'].dt.month\n",
    "    df['elapsed_time'] = (datetime.datetime.today() - df['first_active_month']).dt.days\n",
    "    df['hist_first_buy'] = (df['hist_purchase_date_min'] - df['first_active_month']).dt.days\n",
    "    df['new_hist_first_buy'] = (df['new_hist_purchase_date_min'] - df['first_active_month']).dt.days\n",
    "    for f in ['hist_purchase_date_max','hist_purchase_date_min','new_hist_purchase_date_max',\\\n",
    "                     'new_hist_purchase_date_min']:\n",
    "        df[f] = df[f].astype(np.int64) * 1e-9\n",
    "    df['card_id_total'] = df['new_hist_card_id_size']+df['hist_card_id_size']\n",
    "    df['purchase_amount_total'] = df['new_hist_purchase_amount_sum']+df['hist_purchase_amount_sum']\n",
    "\n",
    "for f in ['feature_1','feature_2','feature_3']:\n",
    "    order_label = df_train.groupby([f])['outliers'].mean()\n",
    "    df_train[f] = df_train[f].map(order_label)\n",
    "    df_test[f] = df_test[f].map(order_label)\n"
   ]
  },
  {
   "cell_type": "code",
   "execution_count": 59,
   "metadata": {
    "collapsed": true
   },
   "outputs": [],
   "source": [
    "def write_df_train():\n",
    "    df_train.to_csv(\"elo_train.csv\")\n",
    "\n",
    "from multiprocessing import Process\n",
    "p = Process(target=write_df_train)\n",
    "p.start()"
   ]
  },
  {
   "cell_type": "code",
   "execution_count": null,
   "metadata": {
    "collapsed": true
   },
   "outputs": [],
   "source": [
    "def write_df_test():\n",
    "    df_test.to_csv(\"elo_test.csv\")\n",
    "\n",
    "from multiprocessing import Process\n",
    "p = Process(target=write_df_test)\n",
    "p.start()"
   ]
  },
  {
   "cell_type": "code",
   "execution_count": null,
   "metadata": {
    "collapsed": true
   },
   "outputs": [],
   "source": []
  },
  {
   "cell_type": "code",
   "execution_count": null,
   "metadata": {
    "collapsed": true
   },
   "outputs": [],
   "source": [
    "df_train_columns = [c for c in df_train.columns if c not in ['card_id', 'first_active_month','target','outliers']]\n",
    "target = df_train['target']\n",
    "del df_train['target']"
   ]
  },
  {
   "cell_type": "code",
   "execution_count": null,
   "metadata": {
    "scrolled": false
   },
   "outputs": [],
   "source": [
    "param = {'num_leaves': 31,\n",
    "         'min_data_in_leaf': 32, \n",
    "         'objective':'regression',\n",
    "         'max_depth': -1,\n",
    "         'learning_rate': 0.005,\n",
    "         \"min_child_samples\": 20,\n",
    "         \"boosting\": \"gbdt\",\n",
    "         \"feature_fraction\": 0.9,\n",
    "         \"bagging_freq\": 1,\n",
    "         \"bagging_fraction\": 0.9 ,\n",
    "         \"bagging_seed\": 11,\n",
    "         \"metric\": 'rmse',\n",
    "         \"lambda_l1\": 0.1,\n",
    "         \"verbosity\": -1,\n",
    "         \"nthread\": 4,\n",
    "         \"random_state\": 4590}\n",
    "folds = StratifiedKFold(n_splits=5, shuffle=True, random_state=4590)\n",
    "oof = np.zeros(len(df_train))\n",
    "predictions = np.zeros(len(df_test))\n",
    "feature_importance_df = pd.DataFrame()\n",
    "\n",
    "for fold_, (trn_idx, val_idx) in enumerate(folds.split(df_train,df_train['outliers'].values)):\n",
    "    print(\"fold {}\".format(fold_))\n",
    "    trn_data = lgb.Dataset(df_train.iloc[trn_idx][df_train_columns], label=target.iloc[trn_idx])#, categorical_feature=categorical_feats)\n",
    "    val_data = lgb.Dataset(df_train.iloc[val_idx][df_train_columns], label=target.iloc[val_idx])#, categorical_feature=categorical_feats)\n",
    "\n",
    "    num_round = 10000\n",
    "    clf = lgb.train(param, trn_data, num_round, valid_sets = [trn_data, val_data], verbose_eval=100, early_stopping_rounds = 100)\n",
    "    oof[val_idx] = clf.predict(df_train.iloc[val_idx][df_train_columns], num_iteration=clf.best_iteration)\n",
    "    \n",
    "    fold_importance_df = pd.DataFrame()\n",
    "    fold_importance_df[\"Feature\"] = df_train_columns\n",
    "    fold_importance_df[\"importance\"] = clf.feature_importance()\n",
    "    fold_importance_df[\"fold\"] = fold_ + 1\n",
    "    feature_importance_df = pd.concat([feature_importance_df, fold_importance_df], axis=0)\n",
    "    \n",
    "    predictions += clf.predict(df_test[df_train_columns], num_iteration=clf.best_iteration) / folds.n_splits\n",
    "\n",
    "np.sqrt(mean_squared_error(oof, target))"
   ]
  },
  {
   "cell_type": "code",
   "execution_count": null,
   "metadata": {
    "scrolled": true
   },
   "outputs": [],
   "source": [
    "cols = (feature_importance_df[[\"Feature\", \"importance\"]]\n",
    "        .groupby(\"Feature\")\n",
    "        .mean()\n",
    "        .sort_values(by=\"importance\", ascending=False)[:1000].index)\n",
    "\n",
    "best_features = feature_importance_df.loc[feature_importance_df.Feature.isin(cols)]\n",
    "\n",
    "plt.figure(figsize=(14,25))\n",
    "sns.barplot(x=\"importance\",\n",
    "            y=\"Feature\",\n",
    "            data=best_features.sort_values(by=\"importance\",\n",
    "                                           ascending=False))\n",
    "plt.title('LightGBM Features (avg over folds)')\n",
    "plt.tight_layout()\n",
    "plt.savefig('lgbm_importances.png')\n"
   ]
  },
  {
   "cell_type": "code",
   "execution_count": null,
   "metadata": {
    "collapsed": true
   },
   "outputs": [],
   "source": [
    "sub_df = pd.DataFrame({\"card_id\":df_test[\"card_id\"].values})\n",
    "sub_df[\"target\"] = predictions\n",
    "sub_df.to_csv(\"submission_remove_few_features.csv\", index=False)"
   ]
  },
  {
   "cell_type": "code",
   "execution_count": 11,
   "metadata": {
    "collapsed": true
   },
   "outputs": [],
   "source": [
    "pd.set_option('display.max_columns', None)"
   ]
  },
  {
   "cell_type": "code",
   "execution_count": 178,
   "metadata": {
    "collapsed": true
   },
   "outputs": [],
   "source": [
    "from scipy import stats"
   ]
  },
  {
   "cell_type": "code",
   "execution_count": 33,
   "metadata": {},
   "outputs": [
    {
     "data": {
      "text/html": [
       "<div>\n",
       "<style scoped>\n",
       "    .dataframe tbody tr th:only-of-type {\n",
       "        vertical-align: middle;\n",
       "    }\n",
       "\n",
       "    .dataframe tbody tr th {\n",
       "        vertical-align: top;\n",
       "    }\n",
       "\n",
       "    .dataframe thead th {\n",
       "        text-align: right;\n",
       "    }\n",
       "</style>\n",
       "<table border=\"1\" class=\"dataframe\">\n",
       "  <thead>\n",
       "    <tr style=\"text-align: right;\">\n",
       "      <th></th>\n",
       "      <th>Feature</th>\n",
       "      <th>importance</th>\n",
       "      <th>fold</th>\n",
       "    </tr>\n",
       "  </thead>\n",
       "  <tbody>\n",
       "    <tr>\n",
       "      <th>44</th>\n",
       "      <td>hist_month_diff_mean</td>\n",
       "      <td>2860</td>\n",
       "      <td>3</td>\n",
       "    </tr>\n",
       "    <tr>\n",
       "      <th>44</th>\n",
       "      <td>hist_month_diff_mean</td>\n",
       "      <td>2461</td>\n",
       "      <td>4</td>\n",
       "    </tr>\n",
       "    <tr>\n",
       "      <th>44</th>\n",
       "      <td>hist_month_diff_mean</td>\n",
       "      <td>2390</td>\n",
       "      <td>1</td>\n",
       "    </tr>\n",
       "    <tr>\n",
       "      <th>68</th>\n",
       "      <td>new_hist_purchase_amount_max</td>\n",
       "      <td>2363</td>\n",
       "      <td>3</td>\n",
       "    </tr>\n",
       "    <tr>\n",
       "      <th>46</th>\n",
       "      <td>hist_authorized_flag_mean</td>\n",
       "      <td>2327</td>\n",
       "      <td>3</td>\n",
       "    </tr>\n",
       "    <tr>\n",
       "      <th>68</th>\n",
       "      <td>new_hist_purchase_amount_max</td>\n",
       "      <td>2241</td>\n",
       "      <td>2</td>\n",
       "    </tr>\n",
       "    <tr>\n",
       "      <th>44</th>\n",
       "      <td>hist_month_diff_mean</td>\n",
       "      <td>2192</td>\n",
       "      <td>2</td>\n",
       "    </tr>\n",
       "    <tr>\n",
       "      <th>68</th>\n",
       "      <td>new_hist_purchase_amount_max</td>\n",
       "      <td>2100</td>\n",
       "      <td>1</td>\n",
       "    </tr>\n",
       "    <tr>\n",
       "      <th>68</th>\n",
       "      <td>new_hist_purchase_amount_max</td>\n",
       "      <td>2098</td>\n",
       "      <td>4</td>\n",
       "    </tr>\n",
       "    <tr>\n",
       "      <th>46</th>\n",
       "      <td>hist_authorized_flag_mean</td>\n",
       "      <td>2076</td>\n",
       "      <td>4</td>\n",
       "    </tr>\n",
       "    <tr>\n",
       "      <th>46</th>\n",
       "      <td>hist_authorized_flag_mean</td>\n",
       "      <td>2067</td>\n",
       "      <td>1</td>\n",
       "    </tr>\n",
       "    <tr>\n",
       "      <th>49</th>\n",
       "      <td>hist_category_1_sum</td>\n",
       "      <td>2033</td>\n",
       "      <td>3</td>\n",
       "    </tr>\n",
       "    <tr>\n",
       "      <th>46</th>\n",
       "      <td>hist_authorized_flag_mean</td>\n",
       "      <td>2003</td>\n",
       "      <td>2</td>\n",
       "    </tr>\n",
       "    <tr>\n",
       "      <th>44</th>\n",
       "      <td>hist_month_diff_mean</td>\n",
       "      <td>1803</td>\n",
       "      <td>5</td>\n",
       "    </tr>\n",
       "    <tr>\n",
       "      <th>68</th>\n",
       "      <td>new_hist_purchase_amount_max</td>\n",
       "      <td>1751</td>\n",
       "      <td>5</td>\n",
       "    </tr>\n",
       "    <tr>\n",
       "      <th>49</th>\n",
       "      <td>hist_category_1_sum</td>\n",
       "      <td>1744</td>\n",
       "      <td>4</td>\n",
       "    </tr>\n",
       "    <tr>\n",
       "      <th>42</th>\n",
       "      <td>hist_month_lag_mean</td>\n",
       "      <td>1649</td>\n",
       "      <td>3</td>\n",
       "    </tr>\n",
       "    <tr>\n",
       "      <th>46</th>\n",
       "      <td>hist_authorized_flag_mean</td>\n",
       "      <td>1647</td>\n",
       "      <td>5</td>\n",
       "    </tr>\n",
       "    <tr>\n",
       "      <th>49</th>\n",
       "      <td>hist_category_1_sum</td>\n",
       "      <td>1636</td>\n",
       "      <td>2</td>\n",
       "    </tr>\n",
       "    <tr>\n",
       "      <th>49</th>\n",
       "      <td>hist_category_1_sum</td>\n",
       "      <td>1626</td>\n",
       "      <td>1</td>\n",
       "    </tr>\n",
       "    <tr>\n",
       "      <th>108</th>\n",
       "      <td>new_hist_purchase_date_uptonow</td>\n",
       "      <td>1614</td>\n",
       "      <td>3</td>\n",
       "    </tr>\n",
       "    <tr>\n",
       "      <th>39</th>\n",
       "      <td>hist_purchase_date_min</td>\n",
       "      <td>1609</td>\n",
       "      <td>3</td>\n",
       "    </tr>\n",
       "    <tr>\n",
       "      <th>50</th>\n",
       "      <td>hist_category_1_mean</td>\n",
       "      <td>1572</td>\n",
       "      <td>3</td>\n",
       "    </tr>\n",
       "    <tr>\n",
       "      <th>32</th>\n",
       "      <td>hist_weekofmonth_var</td>\n",
       "      <td>1560</td>\n",
       "      <td>3</td>\n",
       "    </tr>\n",
       "    <tr>\n",
       "      <th>70</th>\n",
       "      <td>new_hist_purchase_amount_mean</td>\n",
       "      <td>1548</td>\n",
       "      <td>3</td>\n",
       "    </tr>\n",
       "    <tr>\n",
       "      <th>38</th>\n",
       "      <td>hist_purchase_date_max</td>\n",
       "      <td>1526</td>\n",
       "      <td>3</td>\n",
       "    </tr>\n",
       "    <tr>\n",
       "      <th>36</th>\n",
       "      <td>hist_closest_date_to_holiday_mean</td>\n",
       "      <td>1507</td>\n",
       "      <td>3</td>\n",
       "    </tr>\n",
       "    <tr>\n",
       "      <th>39</th>\n",
       "      <td>hist_purchase_date_min</td>\n",
       "      <td>1503</td>\n",
       "      <td>4</td>\n",
       "    </tr>\n",
       "    <tr>\n",
       "      <th>16</th>\n",
       "      <td>hist_purchase_amount_mean</td>\n",
       "      <td>1491</td>\n",
       "      <td>3</td>\n",
       "    </tr>\n",
       "    <tr>\n",
       "      <th>18</th>\n",
       "      <td>hist_installments_sum</td>\n",
       "      <td>1479</td>\n",
       "      <td>3</td>\n",
       "    </tr>\n",
       "    <tr>\n",
       "      <th>...</th>\n",
       "      <td>...</td>\n",
       "      <td>...</td>\n",
       "      <td>...</td>\n",
       "    </tr>\n",
       "    <tr>\n",
       "      <th>38</th>\n",
       "      <td>hist_purchase_date_max</td>\n",
       "      <td>1221</td>\n",
       "      <td>2</td>\n",
       "    </tr>\n",
       "    <tr>\n",
       "      <th>54</th>\n",
       "      <td>hist_purchase_date_diff</td>\n",
       "      <td>1217</td>\n",
       "      <td>3</td>\n",
       "    </tr>\n",
       "    <tr>\n",
       "      <th>39</th>\n",
       "      <td>hist_purchase_date_min</td>\n",
       "      <td>1215</td>\n",
       "      <td>1</td>\n",
       "    </tr>\n",
       "    <tr>\n",
       "      <th>96</th>\n",
       "      <td>new_hist_month_lag_mean</td>\n",
       "      <td>1203</td>\n",
       "      <td>1</td>\n",
       "    </tr>\n",
       "    <tr>\n",
       "      <th>15</th>\n",
       "      <td>hist_purchase_amount_min</td>\n",
       "      <td>1197</td>\n",
       "      <td>4</td>\n",
       "    </tr>\n",
       "    <tr>\n",
       "      <th>9</th>\n",
       "      <td>hist_merchant_id_nunique</td>\n",
       "      <td>1195</td>\n",
       "      <td>4</td>\n",
       "    </tr>\n",
       "    <tr>\n",
       "      <th>55</th>\n",
       "      <td>hist_purchase_date_average</td>\n",
       "      <td>1186</td>\n",
       "      <td>3</td>\n",
       "    </tr>\n",
       "    <tr>\n",
       "      <th>49</th>\n",
       "      <td>hist_category_1_sum</td>\n",
       "      <td>1168</td>\n",
       "      <td>5</td>\n",
       "    </tr>\n",
       "    <tr>\n",
       "      <th>9</th>\n",
       "      <td>hist_merchant_id_nunique</td>\n",
       "      <td>1155</td>\n",
       "      <td>1</td>\n",
       "    </tr>\n",
       "    <tr>\n",
       "      <th>31</th>\n",
       "      <td>hist_weekofmonth_mean</td>\n",
       "      <td>1153</td>\n",
       "      <td>4</td>\n",
       "    </tr>\n",
       "    <tr>\n",
       "      <th>70</th>\n",
       "      <td>new_hist_purchase_amount_mean</td>\n",
       "      <td>1142</td>\n",
       "      <td>5</td>\n",
       "    </tr>\n",
       "    <tr>\n",
       "      <th>36</th>\n",
       "      <td>hist_closest_date_to_holiday_mean</td>\n",
       "      <td>1141</td>\n",
       "      <td>1</td>\n",
       "    </tr>\n",
       "    <tr>\n",
       "      <th>5</th>\n",
       "      <td>hist_weekofyear_nunique</td>\n",
       "      <td>1135</td>\n",
       "      <td>3</td>\n",
       "    </tr>\n",
       "    <tr>\n",
       "      <th>102</th>\n",
       "      <td>new_hist_category_1_mean</td>\n",
       "      <td>1135</td>\n",
       "      <td>3</td>\n",
       "    </tr>\n",
       "    <tr>\n",
       "      <th>48</th>\n",
       "      <td>hist_weekend_mean</td>\n",
       "      <td>1132</td>\n",
       "      <td>3</td>\n",
       "    </tr>\n",
       "    <tr>\n",
       "      <th>54</th>\n",
       "      <td>hist_purchase_date_diff</td>\n",
       "      <td>1132</td>\n",
       "      <td>1</td>\n",
       "    </tr>\n",
       "    <tr>\n",
       "      <th>113</th>\n",
       "      <td>hist_first_buy</td>\n",
       "      <td>1130</td>\n",
       "      <td>1</td>\n",
       "    </tr>\n",
       "    <tr>\n",
       "      <th>71</th>\n",
       "      <td>new_hist_purchase_amount_var</td>\n",
       "      <td>1127</td>\n",
       "      <td>3</td>\n",
       "    </tr>\n",
       "    <tr>\n",
       "      <th>18</th>\n",
       "      <td>hist_installments_sum</td>\n",
       "      <td>1125</td>\n",
       "      <td>4</td>\n",
       "    </tr>\n",
       "    <tr>\n",
       "      <th>32</th>\n",
       "      <td>hist_weekofmonth_var</td>\n",
       "      <td>1120</td>\n",
       "      <td>2</td>\n",
       "    </tr>\n",
       "    <tr>\n",
       "      <th>27</th>\n",
       "      <td>hist_season_var</td>\n",
       "      <td>1120</td>\n",
       "      <td>3</td>\n",
       "    </tr>\n",
       "    <tr>\n",
       "      <th>113</th>\n",
       "      <td>hist_first_buy</td>\n",
       "      <td>1115</td>\n",
       "      <td>4</td>\n",
       "    </tr>\n",
       "    <tr>\n",
       "      <th>37</th>\n",
       "      <td>hist_closest_date_to_holiday_var</td>\n",
       "      <td>1096</td>\n",
       "      <td>2</td>\n",
       "    </tr>\n",
       "    <tr>\n",
       "      <th>9</th>\n",
       "      <td>hist_merchant_id_nunique</td>\n",
       "      <td>1091</td>\n",
       "      <td>2</td>\n",
       "    </tr>\n",
       "    <tr>\n",
       "      <th>43</th>\n",
       "      <td>hist_month_lag_var</td>\n",
       "      <td>1087</td>\n",
       "      <td>2</td>\n",
       "    </tr>\n",
       "    <tr>\n",
       "      <th>55</th>\n",
       "      <td>hist_purchase_date_average</td>\n",
       "      <td>1085</td>\n",
       "      <td>4</td>\n",
       "    </tr>\n",
       "    <tr>\n",
       "      <th>18</th>\n",
       "      <td>hist_installments_sum</td>\n",
       "      <td>1078</td>\n",
       "      <td>1</td>\n",
       "    </tr>\n",
       "    <tr>\n",
       "      <th>32</th>\n",
       "      <td>hist_weekofmonth_var</td>\n",
       "      <td>1077</td>\n",
       "      <td>1</td>\n",
       "    </tr>\n",
       "    <tr>\n",
       "      <th>69</th>\n",
       "      <td>new_hist_purchase_amount_min</td>\n",
       "      <td>1075</td>\n",
       "      <td>3</td>\n",
       "    </tr>\n",
       "    <tr>\n",
       "      <th>102</th>\n",
       "      <td>new_hist_category_1_mean</td>\n",
       "      <td>1073</td>\n",
       "      <td>1</td>\n",
       "    </tr>\n",
       "  </tbody>\n",
       "</table>\n",
       "<p>100 rows × 3 columns</p>\n",
       "</div>"
      ],
      "text/plain": [
       "                               Feature  \\\n",
       "44                hist_month_diff_mean   \n",
       "44                hist_month_diff_mean   \n",
       "44                hist_month_diff_mean   \n",
       "68        new_hist_purchase_amount_max   \n",
       "46           hist_authorized_flag_mean   \n",
       "68        new_hist_purchase_amount_max   \n",
       "44                hist_month_diff_mean   \n",
       "68        new_hist_purchase_amount_max   \n",
       "68        new_hist_purchase_amount_max   \n",
       "46           hist_authorized_flag_mean   \n",
       "46           hist_authorized_flag_mean   \n",
       "49                 hist_category_1_sum   \n",
       "46           hist_authorized_flag_mean   \n",
       "44                hist_month_diff_mean   \n",
       "68        new_hist_purchase_amount_max   \n",
       "49                 hist_category_1_sum   \n",
       "42                 hist_month_lag_mean   \n",
       "46           hist_authorized_flag_mean   \n",
       "49                 hist_category_1_sum   \n",
       "49                 hist_category_1_sum   \n",
       "108     new_hist_purchase_date_uptonow   \n",
       "39              hist_purchase_date_min   \n",
       "50                hist_category_1_mean   \n",
       "32                hist_weekofmonth_var   \n",
       "70       new_hist_purchase_amount_mean   \n",
       "38              hist_purchase_date_max   \n",
       "36   hist_closest_date_to_holiday_mean   \n",
       "39              hist_purchase_date_min   \n",
       "16           hist_purchase_amount_mean   \n",
       "18               hist_installments_sum   \n",
       "..                                 ...   \n",
       "38              hist_purchase_date_max   \n",
       "54             hist_purchase_date_diff   \n",
       "39              hist_purchase_date_min   \n",
       "96             new_hist_month_lag_mean   \n",
       "15            hist_purchase_amount_min   \n",
       "9             hist_merchant_id_nunique   \n",
       "55          hist_purchase_date_average   \n",
       "49                 hist_category_1_sum   \n",
       "9             hist_merchant_id_nunique   \n",
       "31               hist_weekofmonth_mean   \n",
       "70       new_hist_purchase_amount_mean   \n",
       "36   hist_closest_date_to_holiday_mean   \n",
       "5              hist_weekofyear_nunique   \n",
       "102           new_hist_category_1_mean   \n",
       "48                   hist_weekend_mean   \n",
       "54             hist_purchase_date_diff   \n",
       "113                     hist_first_buy   \n",
       "71        new_hist_purchase_amount_var   \n",
       "18               hist_installments_sum   \n",
       "32                hist_weekofmonth_var   \n",
       "27                     hist_season_var   \n",
       "113                     hist_first_buy   \n",
       "37    hist_closest_date_to_holiday_var   \n",
       "9             hist_merchant_id_nunique   \n",
       "43                  hist_month_lag_var   \n",
       "55          hist_purchase_date_average   \n",
       "18               hist_installments_sum   \n",
       "32                hist_weekofmonth_var   \n",
       "69        new_hist_purchase_amount_min   \n",
       "102           new_hist_category_1_mean   \n",
       "\n",
       "     importance  \\\n",
       "44         2860   \n",
       "44         2461   \n",
       "44         2390   \n",
       "68         2363   \n",
       "46         2327   \n",
       "68         2241   \n",
       "44         2192   \n",
       "68         2100   \n",
       "68         2098   \n",
       "46         2076   \n",
       "46         2067   \n",
       "49         2033   \n",
       "46         2003   \n",
       "44         1803   \n",
       "68         1751   \n",
       "49         1744   \n",
       "42         1649   \n",
       "46         1647   \n",
       "49         1636   \n",
       "49         1626   \n",
       "108        1614   \n",
       "39         1609   \n",
       "50         1572   \n",
       "32         1560   \n",
       "70         1548   \n",
       "38         1526   \n",
       "36         1507   \n",
       "39         1503   \n",
       "16         1491   \n",
       "18         1479   \n",
       "..          ...   \n",
       "38         1221   \n",
       "54         1217   \n",
       "39         1215   \n",
       "96         1203   \n",
       "15         1197   \n",
       "9          1195   \n",
       "55         1186   \n",
       "49         1168   \n",
       "9          1155   \n",
       "31         1153   \n",
       "70         1142   \n",
       "36         1141   \n",
       "5          1135   \n",
       "102        1135   \n",
       "48         1132   \n",
       "54         1132   \n",
       "113        1130   \n",
       "71         1127   \n",
       "18         1125   \n",
       "32         1120   \n",
       "27         1120   \n",
       "113        1115   \n",
       "37         1096   \n",
       "9          1091   \n",
       "43         1087   \n",
       "55         1085   \n",
       "18         1078   \n",
       "32         1077   \n",
       "69         1075   \n",
       "102        1073   \n",
       "\n",
       "     fold  \n",
       "44      3  \n",
       "44      4  \n",
       "44      1  \n",
       "68      3  \n",
       "46      3  \n",
       "68      2  \n",
       "44      2  \n",
       "68      1  \n",
       "68      4  \n",
       "46      4  \n",
       "46      1  \n",
       "49      3  \n",
       "46      2  \n",
       "44      5  \n",
       "68      5  \n",
       "49      4  \n",
       "42      3  \n",
       "46      5  \n",
       "49      2  \n",
       "49      1  \n",
       "108     3  \n",
       "39      3  \n",
       "50      3  \n",
       "32      3  \n",
       "70      3  \n",
       "38      3  \n",
       "36      3  \n",
       "39      4  \n",
       "16      3  \n",
       "18      3  \n",
       "..    ...  \n",
       "38      2  \n",
       "54      3  \n",
       "39      1  \n",
       "96      1  \n",
       "15      4  \n",
       "9       4  \n",
       "55      3  \n",
       "49      5  \n",
       "9       1  \n",
       "31      4  \n",
       "70      5  \n",
       "36      1  \n",
       "5       3  \n",
       "102     3  \n",
       "48      3  \n",
       "54      1  \n",
       "113     1  \n",
       "71      3  \n",
       "18      4  \n",
       "32      2  \n",
       "27      3  \n",
       "113     4  \n",
       "37      2  \n",
       "9       2  \n",
       "43      2  \n",
       "55      4  \n",
       "18      1  \n",
       "32      1  \n",
       "69      3  \n",
       "102     1  \n",
       "\n",
       "[100 rows x 3 columns]"
      ]
     },
     "execution_count": 33,
     "metadata": {},
     "output_type": "execute_result"
    }
   ],
   "source": [
    "best_features.sort_values(by=\"importance\",ascending=False).head(100)"
   ]
  },
  {
   "cell_type": "code",
   "execution_count": null,
   "metadata": {
    "collapsed": true
   },
   "outputs": [],
   "source": []
  },
  {
   "cell_type": "code",
   "execution_count": 226,
   "metadata": {},
   "outputs": [
    {
     "data": {
      "text/plain": [
       "60"
      ]
     },
     "execution_count": 226,
     "metadata": {},
     "output_type": "execute_result"
    }
   ],
   "source": [
    "len(a)"
   ]
  },
  {
   "cell_type": "code",
   "execution_count": 171,
   "metadata": {},
   "outputs": [
    {
     "data": {
      "text/plain": [
       "3"
      ]
     },
     "execution_count": 171,
     "metadata": {},
     "output_type": "execute_result"
    }
   ],
   "source": [
    "mode([1,3,2,3,5])[0][0]"
   ]
  },
  {
   "cell_type": "code",
   "execution_count": null,
   "metadata": {
    "collapsed": true
   },
   "outputs": [],
   "source": [
    "# holidays = [1,3,2,3,5]\n",
    "print(holidays)\n",
    "a = [date for date in holidays]"
   ]
  },
  {
   "cell_type": "code",
   "execution_count": null,
   "metadata": {
    "collapsed": true
   },
   "outputs": [],
   "source": [
    "min(df_new_merchant_trans[\"purchase_date\"])"
   ]
  },
  {
   "cell_type": "code",
   "execution_count": null,
   "metadata": {
    "collapsed": true
   },
   "outputs": [],
   "source": [
    "max(df_new_merchant_trans[\"purchase_date\"])"
   ]
  },
  {
   "cell_type": "code",
   "execution_count": null,
   "metadata": {
    "collapsed": true
   },
   "outputs": [],
   "source": [
    "df_new_merchant_trans.dtypes"
   ]
  },
  {
   "cell_type": "code",
   "execution_count": null,
   "metadata": {
    "collapsed": true
   },
   "outputs": [],
   "source": [
    "[pd.to_datetime(date) for date in [\"Jan 01, 2017\",\"Feb 27, 2017\",\"Feb 28, 2017\",\"Mar 01, 2017\",\"Apr 14, 2017\",\"Apr 16, 2017\",\"Apr 21, 2017\",\"May 01, 2017\",\"Jun 15, 2017\",\"Sep 07, 2017\",\"Oct 12, 2017\",\"Nov 02, 2017\",\"Nov 15, 2017\",\"Dec 25, 2017\",\"1 Jan 2018\",\"12 Feb 2018\",\"13 Feb 2018\",\"30 Mar 2018\",\"21 Apr 2018\",\"1 May 2018\",\"31 May 2018\",\"7 Sep 2018\",\"12 Oct 2018\",\"2 Nov 2018\",\"15 Nov 2018\",\"20 Nov 2018\",\"25 Dec 2018\"]]"
   ]
  },
  {
   "cell_type": "code",
   "execution_count": null,
   "metadata": {
    "collapsed": true
   },
   "outputs": [],
   "source": [
    "(pd.to_datetime(\"Apr 21, 2017\") - pd.to_datetime('2017-01-01 00:00:08')).days"
   ]
  },
  {
   "cell_type": "code",
   "execution_count": null,
   "metadata": {
    "collapsed": true
   },
   "outputs": [],
   "source": []
  },
  {
   "cell_type": "code",
   "execution_count": 29,
   "metadata": {
    "collapsed": true
   },
   "outputs": [],
   "source": [
    "holidays = np.asarray([pd.to_datetime(date) for date in [\"Jan 01, 2017\",\"Feb 27, 2017\",\"Feb 28, 2017\",\"Mar 01, 2017\",\"Apr 14, 2017\",\"Apr 16, 2017\",\"Apr 21, 2017\",\"May 01, 2017\",\"Jun 15, 2017\",\"Sep 07, 2017\",\"Oct 12, 2017\",\"Nov 02, 2017\",\"Nov 15, 2017\",\"Dec 25, 2017\",\"1 Jan 2018\",\"12 Feb 2018\",\"13 Feb 2018\",\"30 Mar 2018\",\"21 Apr 2018\",\"1 May 2018\",\"31 May 2018\",\"7 Sep 2018\",\"12 Oct 2018\",\"2 Nov 2018\",\"15 Nov 2018\",\"20 Nov 2018\",\"25 Dec 2018\"]])"
   ]
  },
  {
   "cell_type": "code",
   "execution_count": 34,
   "metadata": {},
   "outputs": [
    {
     "data": {
      "text/plain": [
       "['2017-01-01',\n",
       " '2017-02-27',\n",
       " '2017-02-28',\n",
       " '2017-03-01',\n",
       " '2017-04-14',\n",
       " '2017-04-16',\n",
       " '2017-04-21',\n",
       " '2017-05-01',\n",
       " '2017-06-15',\n",
       " '2017-09-07',\n",
       " '2017-10-12',\n",
       " '2017-11-02',\n",
       " '2017-11-15',\n",
       " '2017-12-25',\n",
       " '2018-01-01',\n",
       " '2018-02-12',\n",
       " '2018-02-13',\n",
       " '2018-03-30',\n",
       " '2018-04-21',\n",
       " '2018-05-01',\n",
       " '2018-05-31',\n",
       " '2018-09-07',\n",
       " '2018-10-12',\n",
       " '2018-11-02',\n",
       " '2018-11-15',\n",
       " '2018-11-20',\n",
       " '2018-12-25']"
      ]
     },
     "execution_count": 34,
     "metadata": {},
     "output_type": "execute_result"
    }
   ],
   "source": [
    "[i.strftime(\"%Y-%m-%d\") for i in holidays]"
   ]
  },
  {
   "cell_type": "code",
   "execution_count": null,
   "metadata": {
    "collapsed": true
   },
   "outputs": [],
   "source": []
  }
 ],
 "metadata": {
  "kernelspec": {
   "display_name": "Python [conda env:py36]",
   "language": "python",
   "name": "conda-env-py36-py"
  },
  "language_info": {
   "codemirror_mode": {
    "name": "ipython",
    "version": 3
   },
   "file_extension": ".py",
   "mimetype": "text/x-python",
   "name": "python",
   "nbconvert_exporter": "python",
   "pygments_lexer": "ipython3",
   "version": "3.6.6"
  }
 },
 "nbformat": 4,
 "nbformat_minor": 2
}
