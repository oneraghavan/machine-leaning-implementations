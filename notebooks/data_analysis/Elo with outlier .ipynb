{
 "cells": [
  {
   "cell_type": "code",
   "execution_count": 1,
   "metadata": {},
   "outputs": [
    {
     "name": "stderr",
     "output_type": "stream",
     "text": [
      "/Users/raghavan/anaconda2/envs/py36/lib/python3.6/site-packages/lightgbm/__init__.py:46: UserWarning: Starting from version 2.2.1, the library file in distribution wheels for macOS is built by the Apple Clang (Xcode_9.4.1) compiler.\n",
      "This means that in case of installing LightGBM from PyPI via the ``pip install lightgbm`` command, you don't need to install the gcc compiler anymore.\n",
      "Instead of that, you need to install the OpenMP library, which is required for running LightGBM on the system with the Apple Clang compiler.\n",
      "You can install the OpenMP library by the following command: ``brew install libomp``.\n",
      "  \"You can install the OpenMP library by the following command: ``brew install libomp``.\", UserWarning)\n"
     ]
    }
   ],
   "source": [
    "import numpy as np\n",
    "import pandas as pd\n",
    "import time\n",
    "import lightgbm as lgb\n",
    "from sklearn.model_selection import StratifiedKFold, KFold\n",
    "from sklearn.metrics import mean_squared_error\n",
    "from sklearn.metrics import log_loss"
   ]
  },
  {
   "cell_type": "code",
   "execution_count": 3,
   "metadata": {},
   "outputs": [
    {
     "name": "stdout",
     "output_type": "stream",
     "text": [
      "CPU times: user 8.6 s, sys: 581 ms, total: 9.18 s\n",
      "Wall time: 9.2 s\n"
     ]
    }
   ],
   "source": [
    "%%time\n",
    "df_train = pd.read_csv('elo_train.csv')\n",
    "df_test = pd.read_csv('elo_test.csv')"
   ]
  },
  {
   "cell_type": "code",
   "execution_count": 4,
   "metadata": {
    "collapsed": true
   },
   "outputs": [],
   "source": [
    "df_train = df_train[df_train['outliers'] == 0]\n",
    "target = df_train['target']\n",
    "del df_train['target']\n",
    "features = [c for c in df_train.columns if c not in ['card_id', 'first_active_month','outliers']]\n",
    "categorical_feats = [c for c in features if 'feature_' in c]\n"
   ]
  },
  {
   "cell_type": "code",
   "execution_count": 5,
   "metadata": {
    "collapsed": true
   },
   "outputs": [],
   "source": [
    "param = {'num_leaves': 31,\n",
    "         'min_data_in_leaf': 32, \n",
    "         'objective':'regression',\n",
    "         'max_depth': -1,\n",
    "         'learning_rate': 0.005,\n",
    "         \"min_child_samples\": 20,\n",
    "         \"boosting\": \"gbdt\",\n",
    "         \"feature_fraction\": 0.9,\n",
    "         \"bagging_freq\": 1,\n",
    "         \"bagging_fraction\": 0.9 ,\n",
    "         \"bagging_seed\": 11,\n",
    "         \"metric\": 'rmse',\n",
    "         \"lambda_l1\": 0.1,\n",
    "         \"verbosity\": -1,\n",
    "         \"nthread\": 4,\n",
    "         \"random_state\": 4590}"
   ]
  },
  {
   "cell_type": "code",
   "execution_count": 6,
   "metadata": {},
   "outputs": [
    {
     "name": "stdout",
     "output_type": "stream",
     "text": [
      "fold 0\n",
      "Training until validation scores don't improve for 200 rounds.\n",
      "[100]\ttraining's rmse: 1.64216\tvalid_1's rmse: 1.65112\n",
      "[200]\ttraining's rmse: 1.60609\tvalid_1's rmse: 1.61719\n",
      "[300]\ttraining's rmse: 1.58643\tvalid_1's rmse: 1.5997\n",
      "[400]\ttraining's rmse: 1.57426\tvalid_1's rmse: 1.58941\n",
      "[500]\ttraining's rmse: 1.56554\tvalid_1's rmse: 1.58265\n",
      "[600]\ttraining's rmse: 1.55884\tvalid_1's rmse: 1.5781\n",
      "[700]\ttraining's rmse: 1.55328\tvalid_1's rmse: 1.57467\n",
      "[800]\ttraining's rmse: 1.5486\tvalid_1's rmse: 1.57212\n",
      "[900]\ttraining's rmse: 1.54451\tvalid_1's rmse: 1.57008\n",
      "[1000]\ttraining's rmse: 1.54077\tvalid_1's rmse: 1.56853\n",
      "[1100]\ttraining's rmse: 1.53736\tvalid_1's rmse: 1.56722\n",
      "[1200]\ttraining's rmse: 1.53426\tvalid_1's rmse: 1.56621\n",
      "[1300]\ttraining's rmse: 1.5313\tvalid_1's rmse: 1.56538\n",
      "[1400]\ttraining's rmse: 1.52848\tvalid_1's rmse: 1.56466\n",
      "[1500]\ttraining's rmse: 1.52585\tvalid_1's rmse: 1.56414\n",
      "[1600]\ttraining's rmse: 1.52333\tvalid_1's rmse: 1.56373\n",
      "[1700]\ttraining's rmse: 1.52092\tvalid_1's rmse: 1.56335\n",
      "[1800]\ttraining's rmse: 1.51859\tvalid_1's rmse: 1.56301\n",
      "[1900]\ttraining's rmse: 1.51635\tvalid_1's rmse: 1.56279\n",
      "[2000]\ttraining's rmse: 1.51408\tvalid_1's rmse: 1.56251\n",
      "[2100]\ttraining's rmse: 1.51194\tvalid_1's rmse: 1.5623\n",
      "[2200]\ttraining's rmse: 1.50986\tvalid_1's rmse: 1.56212\n",
      "[2300]\ttraining's rmse: 1.50777\tvalid_1's rmse: 1.56193\n",
      "[2400]\ttraining's rmse: 1.50569\tvalid_1's rmse: 1.56176\n",
      "[2500]\ttraining's rmse: 1.5037\tvalid_1's rmse: 1.56166\n",
      "[2600]\ttraining's rmse: 1.50168\tvalid_1's rmse: 1.5615\n",
      "[2700]\ttraining's rmse: 1.49976\tvalid_1's rmse: 1.56136\n",
      "[2800]\ttraining's rmse: 1.49786\tvalid_1's rmse: 1.56129\n",
      "[2900]\ttraining's rmse: 1.49597\tvalid_1's rmse: 1.5612\n",
      "[3000]\ttraining's rmse: 1.49404\tvalid_1's rmse: 1.56113\n",
      "[3100]\ttraining's rmse: 1.49215\tvalid_1's rmse: 1.56106\n",
      "[3200]\ttraining's rmse: 1.49029\tvalid_1's rmse: 1.56098\n",
      "[3300]\ttraining's rmse: 1.48845\tvalid_1's rmse: 1.5609\n",
      "[3400]\ttraining's rmse: 1.4866\tvalid_1's rmse: 1.5608\n",
      "[3500]\ttraining's rmse: 1.48479\tvalid_1's rmse: 1.56077\n",
      "[3600]\ttraining's rmse: 1.48306\tvalid_1's rmse: 1.56071\n",
      "[3700]\ttraining's rmse: 1.48125\tvalid_1's rmse: 1.56067\n",
      "[3800]\ttraining's rmse: 1.47945\tvalid_1's rmse: 1.56059\n",
      "[3900]\ttraining's rmse: 1.47767\tvalid_1's rmse: 1.56052\n",
      "[4000]\ttraining's rmse: 1.47592\tvalid_1's rmse: 1.56045\n",
      "[4100]\ttraining's rmse: 1.47422\tvalid_1's rmse: 1.56039\n",
      "[4200]\ttraining's rmse: 1.47244\tvalid_1's rmse: 1.56035\n",
      "[4300]\ttraining's rmse: 1.47074\tvalid_1's rmse: 1.5603\n",
      "[4400]\ttraining's rmse: 1.46899\tvalid_1's rmse: 1.56025\n",
      "[4500]\ttraining's rmse: 1.46732\tvalid_1's rmse: 1.56025\n",
      "[4600]\ttraining's rmse: 1.46563\tvalid_1's rmse: 1.56017\n",
      "[4700]\ttraining's rmse: 1.46393\tvalid_1's rmse: 1.56012\n",
      "[4800]\ttraining's rmse: 1.46227\tvalid_1's rmse: 1.56006\n",
      "[4900]\ttraining's rmse: 1.4606\tvalid_1's rmse: 1.55999\n",
      "[5000]\ttraining's rmse: 1.4589\tvalid_1's rmse: 1.55994\n",
      "[5100]\ttraining's rmse: 1.45725\tvalid_1's rmse: 1.55993\n",
      "[5200]\ttraining's rmse: 1.4556\tvalid_1's rmse: 1.55989\n",
      "[5300]\ttraining's rmse: 1.45399\tvalid_1's rmse: 1.55984\n",
      "[5400]\ttraining's rmse: 1.45234\tvalid_1's rmse: 1.55982\n",
      "[5500]\ttraining's rmse: 1.45072\tvalid_1's rmse: 1.55982\n",
      "[5600]\ttraining's rmse: 1.44909\tvalid_1's rmse: 1.55978\n",
      "[5700]\ttraining's rmse: 1.44748\tvalid_1's rmse: 1.55976\n",
      "[5800]\ttraining's rmse: 1.44588\tvalid_1's rmse: 1.55972\n",
      "[5900]\ttraining's rmse: 1.44425\tvalid_1's rmse: 1.55972\n",
      "[6000]\ttraining's rmse: 1.44268\tvalid_1's rmse: 1.55969\n",
      "[6100]\ttraining's rmse: 1.44107\tvalid_1's rmse: 1.55968\n",
      "[6200]\ttraining's rmse: 1.43949\tvalid_1's rmse: 1.55965\n",
      "[6300]\ttraining's rmse: 1.43791\tvalid_1's rmse: 1.5596\n",
      "[6400]\ttraining's rmse: 1.43629\tvalid_1's rmse: 1.55959\n",
      "[6500]\ttraining's rmse: 1.4347\tvalid_1's rmse: 1.55956\n",
      "[6600]\ttraining's rmse: 1.43311\tvalid_1's rmse: 1.55958\n",
      "Early stopping, best iteration is:\n",
      "[6463]\ttraining's rmse: 1.43528\tvalid_1's rmse: 1.55955\n",
      "fold 1\n",
      "Training until validation scores don't improve for 200 rounds.\n",
      "[100]\ttraining's rmse: 1.6472\tvalid_1's rmse: 1.62866\n",
      "[200]\ttraining's rmse: 1.61112\tvalid_1's rmse: 1.59483\n",
      "[300]\ttraining's rmse: 1.59161\tvalid_1's rmse: 1.57767\n",
      "[400]\ttraining's rmse: 1.57936\tvalid_1's rmse: 1.56781\n",
      "[500]\ttraining's rmse: 1.57063\tvalid_1's rmse: 1.56134\n",
      "[600]\ttraining's rmse: 1.56407\tvalid_1's rmse: 1.55696\n",
      "[700]\ttraining's rmse: 1.55862\tvalid_1's rmse: 1.55376\n",
      "[800]\ttraining's rmse: 1.55389\tvalid_1's rmse: 1.55128\n",
      "[900]\ttraining's rmse: 1.54974\tvalid_1's rmse: 1.54947\n",
      "[1000]\ttraining's rmse: 1.54603\tvalid_1's rmse: 1.54803\n",
      "[1100]\ttraining's rmse: 1.54258\tvalid_1's rmse: 1.54687\n",
      "[1200]\ttraining's rmse: 1.53943\tvalid_1's rmse: 1.54593\n",
      "[1300]\ttraining's rmse: 1.53642\tvalid_1's rmse: 1.54523\n",
      "[1400]\ttraining's rmse: 1.53362\tvalid_1's rmse: 1.5447\n",
      "[1500]\ttraining's rmse: 1.53097\tvalid_1's rmse: 1.5441\n",
      "[1600]\ttraining's rmse: 1.5284\tvalid_1's rmse: 1.54367\n",
      "[1700]\ttraining's rmse: 1.52596\tvalid_1's rmse: 1.54335\n",
      "[1800]\ttraining's rmse: 1.5236\tvalid_1's rmse: 1.54305\n",
      "[1900]\ttraining's rmse: 1.52131\tvalid_1's rmse: 1.54283\n",
      "[2000]\ttraining's rmse: 1.51916\tvalid_1's rmse: 1.54265\n",
      "[2100]\ttraining's rmse: 1.51699\tvalid_1's rmse: 1.54249\n",
      "[2200]\ttraining's rmse: 1.51492\tvalid_1's rmse: 1.54236\n",
      "[2300]\ttraining's rmse: 1.51294\tvalid_1's rmse: 1.5422\n",
      "[2400]\ttraining's rmse: 1.51089\tvalid_1's rmse: 1.54207\n",
      "[2500]\ttraining's rmse: 1.50889\tvalid_1's rmse: 1.54198\n",
      "[2600]\ttraining's rmse: 1.50691\tvalid_1's rmse: 1.54189\n",
      "[2700]\ttraining's rmse: 1.50493\tvalid_1's rmse: 1.54177\n",
      "[2800]\ttraining's rmse: 1.50298\tvalid_1's rmse: 1.54165\n",
      "[2900]\ttraining's rmse: 1.50107\tvalid_1's rmse: 1.54158\n",
      "[3000]\ttraining's rmse: 1.49917\tvalid_1's rmse: 1.54151\n",
      "[3100]\ttraining's rmse: 1.49731\tvalid_1's rmse: 1.5415\n",
      "[3200]\ttraining's rmse: 1.49544\tvalid_1's rmse: 1.5414\n",
      "[3300]\ttraining's rmse: 1.49361\tvalid_1's rmse: 1.54138\n",
      "[3400]\ttraining's rmse: 1.49169\tvalid_1's rmse: 1.54129\n",
      "[3500]\ttraining's rmse: 1.48988\tvalid_1's rmse: 1.54124\n",
      "[3600]\ttraining's rmse: 1.48808\tvalid_1's rmse: 1.54124\n",
      "[3700]\ttraining's rmse: 1.4863\tvalid_1's rmse: 1.54117\n",
      "[3800]\ttraining's rmse: 1.48452\tvalid_1's rmse: 1.54116\n",
      "[3900]\ttraining's rmse: 1.4828\tvalid_1's rmse: 1.54112\n",
      "[4000]\ttraining's rmse: 1.48105\tvalid_1's rmse: 1.54111\n",
      "[4100]\ttraining's rmse: 1.47936\tvalid_1's rmse: 1.54107\n",
      "[4200]\ttraining's rmse: 1.47761\tvalid_1's rmse: 1.54103\n",
      "[4300]\ttraining's rmse: 1.47581\tvalid_1's rmse: 1.54099\n",
      "[4400]\ttraining's rmse: 1.47406\tvalid_1's rmse: 1.54096\n",
      "[4500]\ttraining's rmse: 1.47234\tvalid_1's rmse: 1.54096\n",
      "[4600]\ttraining's rmse: 1.47063\tvalid_1's rmse: 1.54094\n",
      "[4700]\ttraining's rmse: 1.46894\tvalid_1's rmse: 1.54093\n",
      "[4800]\ttraining's rmse: 1.46728\tvalid_1's rmse: 1.54094\n",
      "[4900]\ttraining's rmse: 1.46565\tvalid_1's rmse: 1.5409\n",
      "[5000]\ttraining's rmse: 1.46401\tvalid_1's rmse: 1.54089\n",
      "[5100]\ttraining's rmse: 1.46241\tvalid_1's rmse: 1.54087\n",
      "[5200]\ttraining's rmse: 1.46072\tvalid_1's rmse: 1.54088\n",
      "[5300]\ttraining's rmse: 1.45903\tvalid_1's rmse: 1.54087\n",
      "Early stopping, best iteration is:\n",
      "[5134]\ttraining's rmse: 1.46178\tvalid_1's rmse: 1.54084\n",
      "fold 2\n",
      "Training until validation scores don't improve for 200 rounds.\n",
      "[100]\ttraining's rmse: 1.63988\tvalid_1's rmse: 1.66073\n",
      "[200]\ttraining's rmse: 1.60419\tvalid_1's rmse: 1.626\n",
      "[300]\ttraining's rmse: 1.58486\tvalid_1's rmse: 1.60789\n",
      "[400]\ttraining's rmse: 1.57281\tvalid_1's rmse: 1.59721\n",
      "[500]\ttraining's rmse: 1.56428\tvalid_1's rmse: 1.59035\n",
      "[600]\ttraining's rmse: 1.55772\tvalid_1's rmse: 1.58561\n",
      "[700]\ttraining's rmse: 1.55233\tvalid_1's rmse: 1.58207\n",
      "[800]\ttraining's rmse: 1.54766\tvalid_1's rmse: 1.5793\n",
      "[900]\ttraining's rmse: 1.5436\tvalid_1's rmse: 1.57723\n",
      "[1000]\ttraining's rmse: 1.53992\tvalid_1's rmse: 1.57558\n",
      "[1100]\ttraining's rmse: 1.53651\tvalid_1's rmse: 1.5743\n",
      "[1200]\ttraining's rmse: 1.53336\tvalid_1's rmse: 1.57312\n",
      "[1300]\ttraining's rmse: 1.53041\tvalid_1's rmse: 1.57227\n",
      "[1400]\ttraining's rmse: 1.52762\tvalid_1's rmse: 1.57163\n",
      "[1500]\ttraining's rmse: 1.525\tvalid_1's rmse: 1.57107\n",
      "[1600]\ttraining's rmse: 1.52244\tvalid_1's rmse: 1.57053\n",
      "[1700]\ttraining's rmse: 1.51999\tvalid_1's rmse: 1.57017\n",
      "[1800]\ttraining's rmse: 1.51765\tvalid_1's rmse: 1.56981\n",
      "[1900]\ttraining's rmse: 1.51537\tvalid_1's rmse: 1.56951\n",
      "[2000]\ttraining's rmse: 1.51316\tvalid_1's rmse: 1.56922\n",
      "[2100]\ttraining's rmse: 1.51104\tvalid_1's rmse: 1.56899\n",
      "[2200]\ttraining's rmse: 1.50899\tvalid_1's rmse: 1.5688\n"
     ]
    },
    {
     "name": "stdout",
     "output_type": "stream",
     "text": [
      "[2300]\ttraining's rmse: 1.50695\tvalid_1's rmse: 1.56861\n",
      "[2400]\ttraining's rmse: 1.50495\tvalid_1's rmse: 1.56849\n",
      "[2500]\ttraining's rmse: 1.50302\tvalid_1's rmse: 1.56841\n",
      "[2600]\ttraining's rmse: 1.50111\tvalid_1's rmse: 1.56827\n",
      "[2700]\ttraining's rmse: 1.49912\tvalid_1's rmse: 1.56816\n",
      "[2800]\ttraining's rmse: 1.49722\tvalid_1's rmse: 1.56802\n",
      "[2900]\ttraining's rmse: 1.49538\tvalid_1's rmse: 1.56791\n",
      "[3000]\ttraining's rmse: 1.49352\tvalid_1's rmse: 1.56784\n",
      "[3100]\ttraining's rmse: 1.4917\tvalid_1's rmse: 1.5678\n",
      "[3200]\ttraining's rmse: 1.48987\tvalid_1's rmse: 1.56774\n",
      "[3300]\ttraining's rmse: 1.48805\tvalid_1's rmse: 1.56767\n",
      "[3400]\ttraining's rmse: 1.48623\tvalid_1's rmse: 1.5676\n",
      "[3500]\ttraining's rmse: 1.48442\tvalid_1's rmse: 1.56751\n",
      "[3600]\ttraining's rmse: 1.48259\tvalid_1's rmse: 1.56742\n",
      "[3700]\ttraining's rmse: 1.48079\tvalid_1's rmse: 1.56735\n",
      "[3800]\ttraining's rmse: 1.47901\tvalid_1's rmse: 1.56729\n",
      "[3900]\ttraining's rmse: 1.47722\tvalid_1's rmse: 1.5672\n",
      "[4000]\ttraining's rmse: 1.47547\tvalid_1's rmse: 1.56715\n",
      "[4100]\ttraining's rmse: 1.47372\tvalid_1's rmse: 1.56711\n",
      "[4200]\ttraining's rmse: 1.47199\tvalid_1's rmse: 1.56708\n",
      "[4300]\ttraining's rmse: 1.47024\tvalid_1's rmse: 1.56701\n",
      "[4400]\ttraining's rmse: 1.46852\tvalid_1's rmse: 1.56696\n",
      "[4500]\ttraining's rmse: 1.46681\tvalid_1's rmse: 1.56692\n",
      "[4600]\ttraining's rmse: 1.46515\tvalid_1's rmse: 1.5669\n",
      "[4700]\ttraining's rmse: 1.46345\tvalid_1's rmse: 1.56686\n",
      "[4800]\ttraining's rmse: 1.46175\tvalid_1's rmse: 1.56679\n",
      "[4900]\ttraining's rmse: 1.46009\tvalid_1's rmse: 1.56673\n",
      "[5000]\ttraining's rmse: 1.45842\tvalid_1's rmse: 1.56669\n",
      "[5100]\ttraining's rmse: 1.45677\tvalid_1's rmse: 1.56665\n",
      "[5200]\ttraining's rmse: 1.45508\tvalid_1's rmse: 1.5666\n",
      "[5300]\ttraining's rmse: 1.4534\tvalid_1's rmse: 1.56661\n",
      "[5400]\ttraining's rmse: 1.45176\tvalid_1's rmse: 1.56657\n",
      "[5500]\ttraining's rmse: 1.45011\tvalid_1's rmse: 1.56653\n",
      "[5600]\ttraining's rmse: 1.44851\tvalid_1's rmse: 1.56649\n",
      "[5700]\ttraining's rmse: 1.44692\tvalid_1's rmse: 1.56649\n",
      "[5800]\ttraining's rmse: 1.44533\tvalid_1's rmse: 1.5665\n",
      "[5900]\ttraining's rmse: 1.44372\tvalid_1's rmse: 1.56648\n",
      "[6000]\ttraining's rmse: 1.44218\tvalid_1's rmse: 1.56647\n",
      "[6100]\ttraining's rmse: 1.44058\tvalid_1's rmse: 1.56647\n",
      "[6200]\ttraining's rmse: 1.43901\tvalid_1's rmse: 1.56647\n",
      "Early stopping, best iteration is:\n",
      "[6053]\ttraining's rmse: 1.44135\tvalid_1's rmse: 1.56645\n",
      "fold 3\n",
      "Training until validation scores don't improve for 200 rounds.\n",
      "[100]\ttraining's rmse: 1.64558\tvalid_1's rmse: 1.63404\n",
      "[200]\ttraining's rmse: 1.60898\tvalid_1's rmse: 1.60181\n",
      "[300]\ttraining's rmse: 1.58912\tvalid_1's rmse: 1.58542\n",
      "[400]\ttraining's rmse: 1.57679\tvalid_1's rmse: 1.57613\n",
      "[500]\ttraining's rmse: 1.56799\tvalid_1's rmse: 1.5701\n",
      "[600]\ttraining's rmse: 1.5613\tvalid_1's rmse: 1.56621\n",
      "[700]\ttraining's rmse: 1.55571\tvalid_1's rmse: 1.56342\n",
      "[800]\ttraining's rmse: 1.55092\tvalid_1's rmse: 1.56125\n",
      "[900]\ttraining's rmse: 1.54671\tvalid_1's rmse: 1.55961\n",
      "[1000]\ttraining's rmse: 1.54292\tvalid_1's rmse: 1.55834\n",
      "[1100]\ttraining's rmse: 1.53942\tvalid_1's rmse: 1.55722\n",
      "[1200]\ttraining's rmse: 1.5362\tvalid_1's rmse: 1.55631\n",
      "[1300]\ttraining's rmse: 1.53325\tvalid_1's rmse: 1.55564\n",
      "[1400]\ttraining's rmse: 1.53037\tvalid_1's rmse: 1.55495\n",
      "[1500]\ttraining's rmse: 1.52771\tvalid_1's rmse: 1.55454\n",
      "[1600]\ttraining's rmse: 1.5252\tvalid_1's rmse: 1.55419\n",
      "[1700]\ttraining's rmse: 1.52281\tvalid_1's rmse: 1.55389\n",
      "[1800]\ttraining's rmse: 1.52048\tvalid_1's rmse: 1.55365\n",
      "[1900]\ttraining's rmse: 1.51821\tvalid_1's rmse: 1.5535\n",
      "[2000]\ttraining's rmse: 1.51603\tvalid_1's rmse: 1.55333\n",
      "[2100]\ttraining's rmse: 1.51391\tvalid_1's rmse: 1.5532\n",
      "[2200]\ttraining's rmse: 1.51187\tvalid_1's rmse: 1.55308\n",
      "[2300]\ttraining's rmse: 1.50979\tvalid_1's rmse: 1.55296\n",
      "[2400]\ttraining's rmse: 1.5078\tvalid_1's rmse: 1.55288\n",
      "[2500]\ttraining's rmse: 1.50583\tvalid_1's rmse: 1.55279\n",
      "[2600]\ttraining's rmse: 1.50382\tvalid_1's rmse: 1.55269\n",
      "[2700]\ttraining's rmse: 1.50186\tvalid_1's rmse: 1.55266\n",
      "[2800]\ttraining's rmse: 1.49993\tvalid_1's rmse: 1.55256\n",
      "[2900]\ttraining's rmse: 1.49806\tvalid_1's rmse: 1.55245\n",
      "[3000]\ttraining's rmse: 1.49618\tvalid_1's rmse: 1.55239\n",
      "[3100]\ttraining's rmse: 1.49429\tvalid_1's rmse: 1.55239\n",
      "[3200]\ttraining's rmse: 1.49247\tvalid_1's rmse: 1.55235\n",
      "[3300]\ttraining's rmse: 1.49059\tvalid_1's rmse: 1.55226\n",
      "[3400]\ttraining's rmse: 1.48879\tvalid_1's rmse: 1.5522\n",
      "[3500]\ttraining's rmse: 1.48699\tvalid_1's rmse: 1.55216\n",
      "[3600]\ttraining's rmse: 1.48523\tvalid_1's rmse: 1.5521\n",
      "[3700]\ttraining's rmse: 1.48347\tvalid_1's rmse: 1.55202\n",
      "[3800]\ttraining's rmse: 1.4817\tvalid_1's rmse: 1.55199\n",
      "[3900]\ttraining's rmse: 1.47992\tvalid_1's rmse: 1.55195\n",
      "[4000]\ttraining's rmse: 1.47814\tvalid_1's rmse: 1.55191\n",
      "[4100]\ttraining's rmse: 1.47641\tvalid_1's rmse: 1.55188\n",
      "[4200]\ttraining's rmse: 1.47476\tvalid_1's rmse: 1.55188\n",
      "[4300]\ttraining's rmse: 1.47302\tvalid_1's rmse: 1.55185\n",
      "[4400]\ttraining's rmse: 1.4713\tvalid_1's rmse: 1.55187\n",
      "[4500]\ttraining's rmse: 1.46953\tvalid_1's rmse: 1.55179\n",
      "[4600]\ttraining's rmse: 1.46784\tvalid_1's rmse: 1.55176\n",
      "[4700]\ttraining's rmse: 1.46615\tvalid_1's rmse: 1.55178\n",
      "[4800]\ttraining's rmse: 1.46444\tvalid_1's rmse: 1.55175\n",
      "[4900]\ttraining's rmse: 1.46281\tvalid_1's rmse: 1.55175\n",
      "[5000]\ttraining's rmse: 1.46121\tvalid_1's rmse: 1.55172\n",
      "[5100]\ttraining's rmse: 1.45957\tvalid_1's rmse: 1.55171\n",
      "[5200]\ttraining's rmse: 1.4579\tvalid_1's rmse: 1.55168\n",
      "[5300]\ttraining's rmse: 1.45629\tvalid_1's rmse: 1.55168\n",
      "[5400]\ttraining's rmse: 1.45463\tvalid_1's rmse: 1.55168\n",
      "Early stopping, best iteration is:\n",
      "[5265]\ttraining's rmse: 1.45685\tvalid_1's rmse: 1.55166\n",
      "fold 4\n",
      "Training until validation scores don't improve for 200 rounds.\n",
      "[100]\ttraining's rmse: 1.64164\tvalid_1's rmse: 1.65275\n",
      "[200]\ttraining's rmse: 1.60565\tvalid_1's rmse: 1.61862\n",
      "[300]\ttraining's rmse: 1.58637\tvalid_1's rmse: 1.60114\n",
      "[400]\ttraining's rmse: 1.57423\tvalid_1's rmse: 1.59071\n",
      "[500]\ttraining's rmse: 1.56569\tvalid_1's rmse: 1.584\n",
      "[600]\ttraining's rmse: 1.55913\tvalid_1's rmse: 1.57937\n",
      "[700]\ttraining's rmse: 1.55368\tvalid_1's rmse: 1.57584\n",
      "[800]\ttraining's rmse: 1.549\tvalid_1's rmse: 1.57312\n",
      "[900]\ttraining's rmse: 1.54488\tvalid_1's rmse: 1.5711\n",
      "[1000]\ttraining's rmse: 1.54115\tvalid_1's rmse: 1.56936\n",
      "[1100]\ttraining's rmse: 1.53771\tvalid_1's rmse: 1.568\n",
      "[1200]\ttraining's rmse: 1.53454\tvalid_1's rmse: 1.56694\n",
      "[1300]\ttraining's rmse: 1.53155\tvalid_1's rmse: 1.56601\n",
      "[1400]\ttraining's rmse: 1.52875\tvalid_1's rmse: 1.5653\n",
      "[1500]\ttraining's rmse: 1.52611\tvalid_1's rmse: 1.56467\n",
      "[1600]\ttraining's rmse: 1.52356\tvalid_1's rmse: 1.56418\n",
      "[1700]\ttraining's rmse: 1.52118\tvalid_1's rmse: 1.56382\n",
      "[1800]\ttraining's rmse: 1.51887\tvalid_1's rmse: 1.56352\n",
      "[1900]\ttraining's rmse: 1.51668\tvalid_1's rmse: 1.56325\n",
      "[2000]\ttraining's rmse: 1.51451\tvalid_1's rmse: 1.56301\n",
      "[2100]\ttraining's rmse: 1.51233\tvalid_1's rmse: 1.56279\n",
      "[2200]\ttraining's rmse: 1.51028\tvalid_1's rmse: 1.56264\n",
      "[2300]\ttraining's rmse: 1.50817\tvalid_1's rmse: 1.5625\n",
      "[2400]\ttraining's rmse: 1.50619\tvalid_1's rmse: 1.56239\n",
      "[2500]\ttraining's rmse: 1.50423\tvalid_1's rmse: 1.56232\n",
      "[2600]\ttraining's rmse: 1.50225\tvalid_1's rmse: 1.56218\n",
      "[2700]\ttraining's rmse: 1.50032\tvalid_1's rmse: 1.5621\n",
      "[2800]\ttraining's rmse: 1.49836\tvalid_1's rmse: 1.56197\n",
      "[2900]\ttraining's rmse: 1.49645\tvalid_1's rmse: 1.5619\n",
      "[3000]\ttraining's rmse: 1.49454\tvalid_1's rmse: 1.56183\n",
      "[3100]\ttraining's rmse: 1.49269\tvalid_1's rmse: 1.5618\n",
      "[3200]\ttraining's rmse: 1.49088\tvalid_1's rmse: 1.5617\n",
      "[3300]\ttraining's rmse: 1.48904\tvalid_1's rmse: 1.56167\n",
      "[3400]\ttraining's rmse: 1.48717\tvalid_1's rmse: 1.56158\n",
      "[3500]\ttraining's rmse: 1.48533\tvalid_1's rmse: 1.56155\n",
      "[3600]\ttraining's rmse: 1.48349\tvalid_1's rmse: 1.56152\n",
      "[3700]\ttraining's rmse: 1.48169\tvalid_1's rmse: 1.56149\n",
      "[3800]\ttraining's rmse: 1.47994\tvalid_1's rmse: 1.56147\n",
      "[3900]\ttraining's rmse: 1.47813\tvalid_1's rmse: 1.56138\n",
      "[4000]\ttraining's rmse: 1.47641\tvalid_1's rmse: 1.56134\n",
      "[4100]\ttraining's rmse: 1.47464\tvalid_1's rmse: 1.56126\n",
      "[4200]\ttraining's rmse: 1.47291\tvalid_1's rmse: 1.56123\n",
      "[4300]\ttraining's rmse: 1.47119\tvalid_1's rmse: 1.56122\n",
      "[4400]\ttraining's rmse: 1.4695\tvalid_1's rmse: 1.56119\n",
      "[4500]\ttraining's rmse: 1.46773\tvalid_1's rmse: 1.56112\n",
      "[4600]\ttraining's rmse: 1.46602\tvalid_1's rmse: 1.56108\n",
      "[4700]\ttraining's rmse: 1.46436\tvalid_1's rmse: 1.56102\n",
      "[4800]\ttraining's rmse: 1.46263\tvalid_1's rmse: 1.56099\n"
     ]
    },
    {
     "name": "stdout",
     "output_type": "stream",
     "text": [
      "[4900]\ttraining's rmse: 1.46096\tvalid_1's rmse: 1.56102\n",
      "Early stopping, best iteration is:\n",
      "[4769]\ttraining's rmse: 1.46316\tvalid_1's rmse: 1.56096\n",
      "CV score: 1.55592 \n",
      "CPU times: user 1h 5min 57s, sys: 25.2 s, total: 1h 6min 22s\n",
      "Wall time: 16min 44s\n"
     ]
    }
   ],
   "source": [
    "%%time\n",
    "folds = StratifiedKFold(n_splits=5, shuffle=True, random_state=2333)\n",
    "oof = np.zeros(len(df_train))\n",
    "predictions = np.zeros(len(df_test))\n",
    "feature_importance_df = pd.DataFrame()\n",
    "\n",
    "for fold_, (trn_idx, val_idx) in enumerate(folds.split(df_train,df_train['outliers'].values)):\n",
    "    print(\"fold {}\".format(fold_))\n",
    "    trn_data = lgb.Dataset(df_train.iloc[trn_idx][features], label=target.iloc[trn_idx])#, categorical_feature=categorical_feats)\n",
    "    val_data = lgb.Dataset(df_train.iloc[val_idx][features], label=target.iloc[val_idx])#, categorical_feature=categorical_feats)\n",
    "\n",
    "    num_round = 10000\n",
    "    clf = lgb.train(param, trn_data, num_round, valid_sets = [trn_data, val_data], verbose_eval= 100, early_stopping_rounds = 200)\n",
    "    oof[val_idx] = clf.predict(df_train.iloc[val_idx][features], num_iteration=clf.best_iteration)\n",
    "    \n",
    "    fold_importance_df = pd.DataFrame()\n",
    "    fold_importance_df[\"Feature\"] = features\n",
    "    fold_importance_df[\"importance\"] = clf.feature_importance()\n",
    "    fold_importance_df[\"fold\"] = fold_ + 1\n",
    "    feature_importance_df = pd.concat([feature_importance_df, fold_importance_df], axis=0)\n",
    "    \n",
    "    predictions += clf.predict(df_test[features], num_iteration=clf.best_iteration) / folds.n_splits\n",
    "\n",
    "print(\"CV score: {:<8.5f}\".format(mean_squared_error(oof, target)**0.5))"
   ]
  },
  {
   "cell_type": "code",
   "execution_count": 7,
   "metadata": {
    "collapsed": true
   },
   "outputs": [],
   "source": [
    "model_without_outliers = pd.DataFrame({\"card_id\":df_test[\"card_id\"].values})\n",
    "model_without_outliers[\"target\"] = predictions"
   ]
  },
  {
   "cell_type": "code",
   "execution_count": 10,
   "metadata": {
    "collapsed": true
   },
   "outputs": [],
   "source": [
    "sub_df = pd.DataFrame({\"card_id\":df_test[\"card_id\"].values})\n",
    "sub_df[\"target\"] = predictions\n",
    "sub_df.to_csv(\"submission_outlier_style_original.csv\", index=False)"
   ]
  },
  {
   "cell_type": "markdown",
   "metadata": {},
   "source": [
    "## Part 2 Training Model For Outliers Classification"
   ]
  },
  {
   "cell_type": "code",
   "execution_count": 11,
   "metadata": {},
   "outputs": [
    {
     "name": "stdout",
     "output_type": "stream",
     "text": [
      "CPU times: user 8.31 s, sys: 559 ms, total: 8.87 s\n",
      "Wall time: 8.88 s\n"
     ]
    }
   ],
   "source": [
    "%%time\n",
    "df_train = pd.read_csv('elo_train.csv')\n",
    "df_test = pd.read_csv('elo_test.csv')"
   ]
  },
  {
   "cell_type": "code",
   "execution_count": 12,
   "metadata": {},
   "outputs": [],
   "source": [
    "target = df_train['outliers']\n",
    "del df_train['outliers']\n",
    "del df_train['target']"
   ]
  },
  {
   "cell_type": "code",
   "execution_count": 13,
   "metadata": {
    "collapsed": true
   },
   "outputs": [],
   "source": [
    "features = [c for c in df_train.columns if c not in ['card_id', 'first_active_month']]\n",
    "categorical_feats = [c for c in features if 'feature_' in c]"
   ]
  },
  {
   "cell_type": "code",
   "execution_count": 14,
   "metadata": {
    "collapsed": true
   },
   "outputs": [],
   "source": [
    "param = {'num_leaves': 31,\n",
    "         'min_data_in_leaf': 30, \n",
    "         'objective':'binary',\n",
    "         'max_depth': 6,\n",
    "         'learning_rate': 0.01,\n",
    "         \"boosting\": \"rf\",\n",
    "         \"feature_fraction\": 0.9,\n",
    "         \"bagging_freq\": 1,\n",
    "         \"bagging_fraction\": 0.9 ,\n",
    "         \"bagging_seed\": 11,\n",
    "         \"metric\": 'binary_logloss',\n",
    "         \"lambda_l1\": 0.1,\n",
    "         \"verbosity\": -1,\n",
    "         \"random_state\": 2333}"
   ]
  },
  {
   "cell_type": "code",
   "execution_count": 15,
   "metadata": {},
   "outputs": [
    {
     "name": "stdout",
     "output_type": "stream",
     "text": [
      "fold n°0\n"
     ]
    },
    {
     "name": "stderr",
     "output_type": "stream",
     "text": [
      "/Users/raghavan/anaconda2/envs/py36/lib/python3.6/site-packages/lightgbm/basic.py:1184: UserWarning: Using categorical_feature in Dataset.\n",
      "  warnings.warn('Using categorical_feature in Dataset.')\n",
      "/Users/raghavan/anaconda2/envs/py36/lib/python3.6/site-packages/lightgbm/basic.py:742: UserWarning: categorical_feature in param dict is overridden.\n",
      "  warnings.warn('categorical_feature in param dict is overridden.')\n"
     ]
    },
    {
     "name": "stdout",
     "output_type": "stream",
     "text": [
      "Training until validation scores don't improve for 200 rounds.\n",
      "[100]\ttraining's binary_logloss: 0.0444693\tvalid_1's binary_logloss: 0.0472216\n",
      "[200]\ttraining's binary_logloss: 0.0444428\tvalid_1's binary_logloss: 0.0472017\n",
      "Early stopping, best iteration is:\n",
      "[18]\ttraining's binary_logloss: 0.0444122\tvalid_1's binary_logloss: 0.0471541\n",
      "fold n°1\n",
      "Training until validation scores don't improve for 200 rounds.\n",
      "[100]\ttraining's binary_logloss: 0.044465\tvalid_1's binary_logloss: 0.0454994\n",
      "[200]\ttraining's binary_logloss: 0.044422\tvalid_1's binary_logloss: 0.0454754\n",
      "[300]\ttraining's binary_logloss: 0.0443965\tvalid_1's binary_logloss: 0.0454315\n",
      "[400]\ttraining's binary_logloss: 0.0444075\tvalid_1's binary_logloss: 0.0454529\n",
      "[500]\ttraining's binary_logloss: 0.0444048\tvalid_1's binary_logloss: 0.0454686\n",
      "Early stopping, best iteration is:\n",
      "[309]\ttraining's binary_logloss: 0.0443886\tvalid_1's binary_logloss: 0.0454221\n",
      "fold n°2\n",
      "Training until validation scores don't improve for 200 rounds.\n",
      "[100]\ttraining's binary_logloss: 0.0446617\tvalid_1's binary_logloss: 0.0442483\n",
      "[200]\ttraining's binary_logloss: 0.0446208\tvalid_1's binary_logloss: 0.0442212\n",
      "Early stopping, best iteration is:\n",
      "[13]\ttraining's binary_logloss: 0.0446945\tvalid_1's binary_logloss: 0.0441505\n",
      "fold n°3\n",
      "Training until validation scores don't improve for 200 rounds.\n",
      "[100]\ttraining's binary_logloss: 0.0434688\tvalid_1's binary_logloss: 0.0496278\n",
      "[200]\ttraining's binary_logloss: 0.0434662\tvalid_1's binary_logloss: 0.0496344\n",
      "Early stopping, best iteration is:\n",
      "[16]\ttraining's binary_logloss: 0.0434045\tvalid_1's binary_logloss: 0.0497266\n",
      "fold n°4\n",
      "Training until validation scores don't improve for 200 rounds.\n",
      "[100]\ttraining's binary_logloss: 0.0447636\tvalid_1's binary_logloss: 0.0448337\n",
      "[200]\ttraining's binary_logloss: 0.0447436\tvalid_1's binary_logloss: 0.044831\n",
      "Early stopping, best iteration is:\n",
      "[16]\ttraining's binary_logloss: 0.0446999\tvalid_1's binary_logloss: 0.0448163\n",
      "CV score: 0.04625 \n",
      "CPU times: user 3min 35s, sys: 10.6 s, total: 3min 46s\n",
      "Wall time: 1min 2s\n"
     ]
    }
   ],
   "source": [
    "%%time\n",
    "folds = KFold(n_splits=5, shuffle=True, random_state=15)\n",
    "oof = np.zeros(len(df_train))\n",
    "predictions = np.zeros(len(df_test))\n",
    "feature_importance_df = pd.DataFrame()\n",
    "\n",
    "start = time.time()\n",
    "\n",
    "\n",
    "for fold_, (trn_idx, val_idx) in enumerate(folds.split(df_train.values, target.values)):\n",
    "    print(\"fold n°{}\".format(fold_))\n",
    "    trn_data = lgb.Dataset(df_train.iloc[trn_idx][features], label=target.iloc[trn_idx], categorical_feature=categorical_feats)\n",
    "    val_data = lgb.Dataset(df_train.iloc[val_idx][features], label=target.iloc[val_idx], categorical_feature=categorical_feats)\n",
    "\n",
    "    num_round = 10000\n",
    "    clf = lgb.train(param, trn_data, num_round, valid_sets = [trn_data, val_data], verbose_eval=100, early_stopping_rounds = 200)\n",
    "    oof[val_idx] = clf.predict(df_train.iloc[val_idx][features], num_iteration=clf.best_iteration)\n",
    "    \n",
    "    fold_importance_df = pd.DataFrame()\n",
    "    fold_importance_df[\"feature\"] = features\n",
    "    fold_importance_df[\"importance\"] = clf.feature_importance()\n",
    "    fold_importance_df[\"fold\"] = fold_ + 1\n",
    "    feature_importance_df = pd.concat([feature_importance_df, fold_importance_df], axis=0)\n",
    "    \n",
    "    predictions += clf.predict(df_test[features], num_iteration=clf.best_iteration) / folds.n_splits\n",
    "\n",
    "print(\"CV score: {:<8.5f}\".format(log_loss(target, oof)))"
   ]
  },
  {
   "cell_type": "code",
   "execution_count": 16,
   "metadata": {},
   "outputs": [
    {
     "data": {
      "text/html": [
       "<div>\n",
       "<style scoped>\n",
       "    .dataframe tbody tr th:only-of-type {\n",
       "        vertical-align: middle;\n",
       "    }\n",
       "\n",
       "    .dataframe tbody tr th {\n",
       "        vertical-align: top;\n",
       "    }\n",
       "\n",
       "    .dataframe thead th {\n",
       "        text-align: right;\n",
       "    }\n",
       "</style>\n",
       "<table border=\"1\" class=\"dataframe\">\n",
       "  <thead>\n",
       "    <tr style=\"text-align: right;\">\n",
       "      <th></th>\n",
       "      <th>card_id</th>\n",
       "      <th>target</th>\n",
       "    </tr>\n",
       "  </thead>\n",
       "  <tbody>\n",
       "    <tr>\n",
       "      <th>0</th>\n",
       "      <td>C_ID_0ab67a22ab</td>\n",
       "      <td>0.095957</td>\n",
       "    </tr>\n",
       "    <tr>\n",
       "      <th>1</th>\n",
       "      <td>C_ID_130fd0cbdd</td>\n",
       "      <td>0.001884</td>\n",
       "    </tr>\n",
       "    <tr>\n",
       "      <th>2</th>\n",
       "      <td>C_ID_b709037bc5</td>\n",
       "      <td>0.008661</td>\n",
       "    </tr>\n",
       "    <tr>\n",
       "      <th>3</th>\n",
       "      <td>C_ID_d27d835a9f</td>\n",
       "      <td>0.001884</td>\n",
       "    </tr>\n",
       "    <tr>\n",
       "      <th>4</th>\n",
       "      <td>C_ID_2b5e3df5c2</td>\n",
       "      <td>0.001884</td>\n",
       "    </tr>\n",
       "  </tbody>\n",
       "</table>\n",
       "</div>"
      ],
      "text/plain": [
       "           card_id    target\n",
       "0  C_ID_0ab67a22ab  0.095957\n",
       "1  C_ID_130fd0cbdd  0.001884\n",
       "2  C_ID_b709037bc5  0.008661\n",
       "3  C_ID_d27d835a9f  0.001884\n",
       "4  C_ID_2b5e3df5c2  0.001884"
      ]
     },
     "execution_count": 16,
     "metadata": {},
     "output_type": "execute_result"
    }
   ],
   "source": [
    "df_outlier_prob = pd.DataFrame({\"card_id\":df_test[\"card_id\"].values})\n",
    "df_outlier_prob[\"target\"] = predictions\n",
    "df_outlier_prob.head()"
   ]
  },
  {
   "cell_type": "markdown",
   "metadata": {},
   "source": [
    "## Part 3 Combining Submission:"
   ]
  },
  {
   "cell_type": "code",
   "execution_count": 43,
   "metadata": {
    "collapsed": true
   },
   "outputs": [],
   "source": [
    "outlier_id = pd.DataFrame(df_outlier_prob.sort_values(by='target',ascending = False).head(26000)['card_id'])\n"
   ]
  },
  {
   "cell_type": "code",
   "execution_count": 44,
   "metadata": {},
   "outputs": [],
   "source": [
    "best_submission = pd.read_csv('submission_remove_few_features.csv')"
   ]
  },
  {
   "cell_type": "code",
   "execution_count": 45,
   "metadata": {},
   "outputs": [
    {
     "data": {
      "text/html": [
       "<div>\n",
       "<style scoped>\n",
       "    .dataframe tbody tr th:only-of-type {\n",
       "        vertical-align: middle;\n",
       "    }\n",
       "\n",
       "    .dataframe tbody tr th {\n",
       "        vertical-align: top;\n",
       "    }\n",
       "\n",
       "    .dataframe thead th {\n",
       "        text-align: right;\n",
       "    }\n",
       "</style>\n",
       "<table border=\"1\" class=\"dataframe\">\n",
       "  <thead>\n",
       "    <tr style=\"text-align: right;\">\n",
       "      <th></th>\n",
       "      <th>card_id</th>\n",
       "      <th>target</th>\n",
       "    </tr>\n",
       "  </thead>\n",
       "  <tbody>\n",
       "    <tr>\n",
       "      <th>0</th>\n",
       "      <td>C_ID_0ab67a22ab</td>\n",
       "      <td>-2.874152</td>\n",
       "    </tr>\n",
       "    <tr>\n",
       "      <th>1</th>\n",
       "      <td>C_ID_f7cada36d3</td>\n",
       "      <td>0.504292</td>\n",
       "    </tr>\n",
       "    <tr>\n",
       "      <th>2</th>\n",
       "      <td>C_ID_6d8dba8475</td>\n",
       "      <td>-1.133839</td>\n",
       "    </tr>\n",
       "    <tr>\n",
       "      <th>3</th>\n",
       "      <td>C_ID_7f1041e8e1</td>\n",
       "      <td>-5.320867</td>\n",
       "    </tr>\n",
       "    <tr>\n",
       "      <th>4</th>\n",
       "      <td>C_ID_22e4a47c72</td>\n",
       "      <td>0.355567</td>\n",
       "    </tr>\n",
       "  </tbody>\n",
       "</table>\n",
       "</div>"
      ],
      "text/plain": [
       "           card_id    target\n",
       "0  C_ID_0ab67a22ab -2.874152\n",
       "1  C_ID_f7cada36d3  0.504292\n",
       "2  C_ID_6d8dba8475 -1.133839\n",
       "3  C_ID_7f1041e8e1 -5.320867\n",
       "4  C_ID_22e4a47c72  0.355567"
      ]
     },
     "execution_count": 45,
     "metadata": {},
     "output_type": "execute_result"
    }
   ],
   "source": [
    "most_likely_liers = best_submission.merge(outlier_id,how='right')\n",
    "most_likely_liers.head()"
   ]
  },
  {
   "cell_type": "code",
   "execution_count": 46,
   "metadata": {},
   "outputs": [
    {
     "name": "stdout",
     "output_type": "stream",
     "text": [
      "CPU times: user 5min 54s, sys: 878 ms, total: 5min 55s\n",
      "Wall time: 5min 56s\n"
     ]
    }
   ],
   "source": [
    "%%time\n",
    "for card_id in most_likely_liers['card_id']:\n",
    "    model_without_outliers.loc[model_without_outliers['card_id']==card_id,'target']\\\n",
    "    = most_likely_liers.loc[most_likely_liers['card_id']==card_id,'target'].values"
   ]
  },
  {
   "cell_type": "code",
   "execution_count": 47,
   "metadata": {
    "collapsed": true
   },
   "outputs": [],
   "source": [
    "model_without_outliers.to_csv(\"combining_submission_26000.csv\", index=False)"
   ]
  },
  {
   "cell_type": "code",
   "execution_count": null,
   "metadata": {
    "collapsed": true
   },
   "outputs": [],
   "source": []
  }
 ],
 "metadata": {
  "kernelspec": {
   "display_name": "Python [conda env:py36]",
   "language": "python",
   "name": "conda-env-py36-py"
  },
  "language_info": {
   "codemirror_mode": {
    "name": "ipython",
    "version": 3
   },
   "file_extension": ".py",
   "mimetype": "text/x-python",
   "name": "python",
   "nbconvert_exporter": "python",
   "pygments_lexer": "ipython3",
   "version": "3.6.6"
  }
 },
 "nbformat": 4,
 "nbformat_minor": 2
}
