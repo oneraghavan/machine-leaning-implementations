{
 "cells": [
  {
   "cell_type": "code",
   "execution_count": 44,
   "metadata": {
    "_cell_guid": "b1076dfc-b9ad-4769-8c92-a6c4dae69d19",
    "_uuid": "8f2839f25d086af736a60e9eeb907d3b93b6e0e5"
   },
   "outputs": [
    {
     "name": "stdout",
     "output_type": "stream",
     "text": [
      "['Data_Dictionary.xlsx', 'new_merchant_transactions.csv', 'test.csv', 'merchants.csv', 'historical_transactions.csv', 'train.csv', 'sample_submission.csv']\n"
     ]
    }
   ],
   "source": [
    "# This Python 3 environment comes with many helpful analytics libraries installed\n",
    "# It is defined by the kaggle/python docker image: https://github.com/kaggle/docker-python\n",
    "# For example, here's several helpful packages to load in \n",
    "\n",
    "import numpy as np \n",
    "import pandas as pd \n",
    "import matplotlib.pyplot as plt\n",
    "import seaborn as sns\n",
    "import lightgbm as lgb\n",
    "from sklearn.model_selection import KFold\n",
    "import warnings\n",
    "import time\n",
    "import sys\n",
    "import datetime\n",
    "import matplotlib.pyplot as plt\n",
    "import seaborn as sns\n",
    "from sklearn.metrics import mean_squared_error\n",
    "warnings.simplefilter(action='ignore', category=FutureWarning)\n",
    "# Input data files are available in the \"../input/\" directory.\n",
    "# For example, running this (by clicking run or pressing Shift+Enter) will list the files in the input directory\n",
    "\n",
    "import os\n",
    "print(os.listdir(\"../input\"))\n",
    "\n",
    "# Any results you write to the current directory are saved as output."
   ]
  },
  {
   "cell_type": "code",
   "execution_count": 45,
   "metadata": {
    "_cell_guid": "79c7e3d0-c299-4dcb-8224-4455121ee9b0",
    "_uuid": "d629ff2d2480ee46fbb7e2d37f6b5fab8052498a",
    "collapsed": true
   },
   "outputs": [],
   "source": [
    "import featuretools"
   ]
  },
  {
   "cell_type": "code",
   "execution_count": 46,
   "metadata": {
    "_uuid": "4c68648b88f7b07c6096478d1ed958ebb7454786",
    "collapsed": true
   },
   "outputs": [],
   "source": [
    "new_transactions = pd.read_csv('../input/new_merchant_transactions.csv')\n",
    "historical_transactions = pd.read_csv('../input/historical_transactions.csv')\n",
    "\n",
    "def binarize(df):\n",
    "    for col in ['authorized_flag', 'category_1']:\n",
    "        df[col] = df[col].map({'Y':1, 'N':0})\n",
    "    return df\n",
    "\n",
    "historical_transactions = binarize(historical_transactions)\n",
    "new_transactions = binarize(new_transactions)"
   ]
  },
  {
   "cell_type": "code",
   "execution_count": 47,
   "metadata": {
    "_uuid": "671cf9737082a819e32c010dbf8b02c78b979310",
    "collapsed": true
   },
   "outputs": [],
   "source": [
    "def read_data(input_file):\n",
    "    df = pd.read_csv(input_file)\n",
    "    df['first_active_month'] = pd.to_datetime(df['first_active_month'])\n",
    "    df['elapsed_time'] = (datetime.date(2018, 2, 1) - df['first_active_month'].dt.date).dt.days\n",
    "    return df\n",
    "#_________________________________________\n",
    "train = read_data('../input/train.csv')\n",
    "test = read_data('../input/test.csv')\n",
    "\n",
    "target = train['target']\n",
    "del train['target']"
   ]
  },
  {
   "cell_type": "code",
   "execution_count": 48,
   "metadata": {
    "_uuid": "538a1d248e0869b60ae2b34490f507f50f21ab10",
    "collapsed": true
   },
   "outputs": [],
   "source": [
    "historical_transactions = pd.get_dummies(historical_transactions, columns=['category_2', 'category_3'])"
   ]
  },
  {
   "cell_type": "code",
   "execution_count": 49,
   "metadata": {
    "_uuid": "886c0800c0851cc3b8e7182e2b0d10eae6bffebe",
    "collapsed": true
   },
   "outputs": [],
   "source": [
    "new_transactions = pd.get_dummies(new_transactions, columns=['category_2', 'category_3'])"
   ]
  },
  {
   "cell_type": "code",
   "execution_count": 50,
   "metadata": {
    "_uuid": "33c34a8f4063f3495b0221d99f13273c874e9981",
    "collapsed": true
   },
   "outputs": [],
   "source": [
    "merchants = pd.read_csv('../input/merchants.csv')\n"
   ]
  },
  {
   "cell_type": "code",
   "execution_count": 51,
   "metadata": {
    "_uuid": "e304fe7a6cf6c52bf47fc7e77fed40f3628cfcc7"
   },
   "outputs": [
    {
     "data": {
      "text/plain": [
       "570"
      ]
     },
     "execution_count": 51,
     "metadata": {},
     "output_type": "execute_result"
    }
   ],
   "source": [
    "import gc\n",
    "alldata = train.append(test,ignore_index=True)\n",
    "\n",
    "del train\n",
    "del test\n",
    "\n",
    "gc.collect()"
   ]
  },
  {
   "cell_type": "code",
   "execution_count": 52,
   "metadata": {
    "collapsed": true
   },
   "outputs": [],
   "source": [
    "def binarize_merchants(df):\n",
    "    for col in ['category_1','category_4']:\n",
    "        df[col] = df[col].map({'Y':1, 'N':0})\n",
    "    return df"
   ]
  },
  {
   "cell_type": "code",
   "execution_count": 53,
   "metadata": {
    "_uuid": "e5e8baaf6a12b977cd977e281c4c677b45fa441d"
   },
   "outputs": [],
   "source": [
    "unique_merchants = merchants.set_index(\"merchant_id\").groupby(level=0).first().reset_index()\n",
    "unique_merchants = pd.get_dummies(unique_merchants,columns=['most_recent_sales_range','most_recent_purchases_range'])\n",
    "unique_merchants = binarize_merchants(unique_merchants)"
   ]
  },
  {
   "cell_type": "code",
   "execution_count": 54,
   "metadata": {
    "_uuid": "52dd86455e7a42ed3ce526243b15b3bb1af30bf3"
   },
   "outputs": [
    {
     "data": {
      "text/plain": [
       "77"
      ]
     },
     "execution_count": 54,
     "metadata": {},
     "output_type": "execute_result"
    }
   ],
   "source": [
    "unique_merchants.head()\n",
    "del merchants\n",
    "gc.collect()"
   ]
  },
  {
   "cell_type": "code",
   "execution_count": 55,
   "metadata": {},
   "outputs": [
    {
     "data": {
      "text/plain": [
       "['merchant_id',\n",
       " 'merchant_group_id',\n",
       " 'merchant_category_id',\n",
       " 'subsector_id',\n",
       " 'numerical_1',\n",
       " 'numerical_2',\n",
       " 'category_1',\n",
       " 'avg_sales_lag3',\n",
       " 'avg_purchases_lag3',\n",
       " 'active_months_lag3',\n",
       " 'avg_sales_lag6',\n",
       " 'avg_purchases_lag6',\n",
       " 'active_months_lag6',\n",
       " 'avg_sales_lag12',\n",
       " 'avg_purchases_lag12',\n",
       " 'active_months_lag12',\n",
       " 'category_4',\n",
       " 'city_id',\n",
       " 'state_id',\n",
       " 'category_2',\n",
       " 'most_recent_sales_range_A',\n",
       " 'most_recent_sales_range_B',\n",
       " 'most_recent_sales_range_C',\n",
       " 'most_recent_sales_range_D',\n",
       " 'most_recent_sales_range_E',\n",
       " 'most_recent_purchases_range_A',\n",
       " 'most_recent_purchases_range_B',\n",
       " 'most_recent_purchases_range_C',\n",
       " 'most_recent_purchases_range_D',\n",
       " 'most_recent_purchases_range_E']"
      ]
     },
     "execution_count": 55,
     "metadata": {},
     "output_type": "execute_result"
    }
   ],
   "source": [
    "unique_merchants.columns.tolist()"
   ]
  },
  {
   "cell_type": "code",
   "execution_count": 56,
   "metadata": {
    "_uuid": "2f0c2d0837eb33d2069077451c4fdd2f5c3e3094",
    "collapsed": true
   },
   "outputs": [],
   "source": [
    "all_transactions = historical_transactions.append(new_transactions)\n",
    "# all_transactions[\"mer_cus_id\"] = all_transactions[\"merchant_id\"] + all_transactions[\"card_id\"] + all_transactions[\"purchase_date\"]"
   ]
  },
  {
   "cell_type": "code",
   "execution_count": 57,
   "metadata": {
    "_uuid": "234acec93117d64c5dffaca6fb7773c562ea4524",
    "collapsed": true
   },
   "outputs": [],
   "source": [
    "def unique_field(x):\n",
    "    global count\n",
    "    count = count + 1 \n",
    "    return count\n",
    "\n",
    "count = 0 \n",
    "    \n",
    "all_transactions[\"u_id\"] = all_transactions[\"merchant_id\"].apply(unique_field)"
   ]
  },
  {
   "cell_type": "code",
   "execution_count": 58,
   "metadata": {},
   "outputs": [
    {
     "data": {
      "text/plain": [
       "31075392"
      ]
     },
     "execution_count": 58,
     "metadata": {},
     "output_type": "execute_result"
    }
   ],
   "source": [
    "len(set(all_transactions[\"u_id\"].values.tolist()))"
   ]
  },
  {
   "cell_type": "code",
   "execution_count": 59,
   "metadata": {},
   "outputs": [
    {
     "data": {
      "text/plain": [
       "authorized_flag         31075392\n",
       "card_id                 31075392\n",
       "city_id                 31075392\n",
       "category_1              31075392\n",
       "installments            31075392\n",
       "merchant_category_id    31075392\n",
       "merchant_id             30910695\n",
       "month_lag               31075392\n",
       "purchase_amount         31075392\n",
       "purchase_date           31075392\n",
       "state_id                31075392\n",
       "subsector_id            31075392\n",
       "category_2_1.0          31075392\n",
       "category_2_2.0          31075392\n",
       "category_2_3.0          31075392\n",
       "category_2_4.0          31075392\n",
       "category_2_5.0          31075392\n",
       "category_3_A            31075392\n",
       "category_3_B            31075392\n",
       "category_3_C            31075392\n",
       "u_id                    31075392\n",
       "dtype: int64"
      ]
     },
     "execution_count": 59,
     "metadata": {},
     "output_type": "execute_result"
    }
   ],
   "source": [
    "all_transactions.count()"
   ]
  },
  {
   "cell_type": "code",
   "execution_count": 60,
   "metadata": {},
   "outputs": [
    {
     "data": {
      "text/html": [
       "<div>\n",
       "<style scoped>\n",
       "    .dataframe tbody tr th:only-of-type {\n",
       "        vertical-align: middle;\n",
       "    }\n",
       "\n",
       "    .dataframe tbody tr th {\n",
       "        vertical-align: top;\n",
       "    }\n",
       "\n",
       "    .dataframe thead th {\n",
       "        text-align: right;\n",
       "    }\n",
       "</style>\n",
       "<table border=\"1\" class=\"dataframe\">\n",
       "  <thead>\n",
       "    <tr style=\"text-align: right;\">\n",
       "      <th></th>\n",
       "      <th>merchant_id</th>\n",
       "      <th>merchant_group_id</th>\n",
       "      <th>merchant_category_id</th>\n",
       "      <th>subsector_id</th>\n",
       "      <th>numerical_1</th>\n",
       "      <th>numerical_2</th>\n",
       "      <th>category_1</th>\n",
       "      <th>avg_sales_lag3</th>\n",
       "      <th>avg_purchases_lag3</th>\n",
       "      <th>active_months_lag3</th>\n",
       "      <th>avg_sales_lag6</th>\n",
       "      <th>avg_purchases_lag6</th>\n",
       "      <th>active_months_lag6</th>\n",
       "      <th>avg_sales_lag12</th>\n",
       "      <th>avg_purchases_lag12</th>\n",
       "      <th>active_months_lag12</th>\n",
       "      <th>category_4</th>\n",
       "      <th>city_id</th>\n",
       "      <th>state_id</th>\n",
       "      <th>category_2</th>\n",
       "      <th>most_recent_sales_range_A</th>\n",
       "      <th>most_recent_sales_range_B</th>\n",
       "      <th>most_recent_sales_range_C</th>\n",
       "      <th>most_recent_sales_range_D</th>\n",
       "      <th>most_recent_sales_range_E</th>\n",
       "      <th>most_recent_purchases_range_A</th>\n",
       "      <th>most_recent_purchases_range_B</th>\n",
       "      <th>most_recent_purchases_range_C</th>\n",
       "      <th>most_recent_purchases_range_D</th>\n",
       "      <th>most_recent_purchases_range_E</th>\n",
       "    </tr>\n",
       "  </thead>\n",
       "  <tbody>\n",
       "    <tr>\n",
       "      <th>0</th>\n",
       "      <td>M_ID_000025127f</td>\n",
       "      <td>14602</td>\n",
       "      <td>80</td>\n",
       "      <td>37</td>\n",
       "      <td>-0.057471</td>\n",
       "      <td>-0.057471</td>\n",
       "      <td>0</td>\n",
       "      <td>1.29</td>\n",
       "      <td>1.880342</td>\n",
       "      <td>3</td>\n",
       "      <td>1.26</td>\n",
       "      <td>2.228632</td>\n",
       "      <td>6</td>\n",
       "      <td>1.08</td>\n",
       "      <td>2.089744</td>\n",
       "      <td>12</td>\n",
       "      <td>1</td>\n",
       "      <td>69</td>\n",
       "      <td>9</td>\n",
       "      <td>1.0</td>\n",
       "      <td>0</td>\n",
       "      <td>0</td>\n",
       "      <td>0</td>\n",
       "      <td>0</td>\n",
       "      <td>1</td>\n",
       "      <td>0</td>\n",
       "      <td>0</td>\n",
       "      <td>0</td>\n",
       "      <td>0</td>\n",
       "      <td>1</td>\n",
       "    </tr>\n",
       "    <tr>\n",
       "      <th>1</th>\n",
       "      <td>M_ID_0000699140</td>\n",
       "      <td>19420</td>\n",
       "      <td>87</td>\n",
       "      <td>27</td>\n",
       "      <td>-0.057471</td>\n",
       "      <td>-0.057471</td>\n",
       "      <td>0</td>\n",
       "      <td>0.99</td>\n",
       "      <td>0.997832</td>\n",
       "      <td>3</td>\n",
       "      <td>1.04</td>\n",
       "      <td>1.002168</td>\n",
       "      <td>6</td>\n",
       "      <td>1.24</td>\n",
       "      <td>1.154878</td>\n",
       "      <td>12</td>\n",
       "      <td>0</td>\n",
       "      <td>48</td>\n",
       "      <td>9</td>\n",
       "      <td>1.0</td>\n",
       "      <td>0</td>\n",
       "      <td>0</td>\n",
       "      <td>0</td>\n",
       "      <td>1</td>\n",
       "      <td>0</td>\n",
       "      <td>0</td>\n",
       "      <td>0</td>\n",
       "      <td>0</td>\n",
       "      <td>1</td>\n",
       "      <td>0</td>\n",
       "    </tr>\n",
       "    <tr>\n",
       "      <th>2</th>\n",
       "      <td>M_ID_00006a5552</td>\n",
       "      <td>52848</td>\n",
       "      <td>178</td>\n",
       "      <td>29</td>\n",
       "      <td>-0.057471</td>\n",
       "      <td>-0.057471</td>\n",
       "      <td>0</td>\n",
       "      <td>1.21</td>\n",
       "      <td>1.000000</td>\n",
       "      <td>3</td>\n",
       "      <td>1.18</td>\n",
       "      <td>1.000000</td>\n",
       "      <td>6</td>\n",
       "      <td>1.22</td>\n",
       "      <td>1.035714</td>\n",
       "      <td>12</td>\n",
       "      <td>0</td>\n",
       "      <td>64</td>\n",
       "      <td>15</td>\n",
       "      <td>1.0</td>\n",
       "      <td>0</td>\n",
       "      <td>0</td>\n",
       "      <td>0</td>\n",
       "      <td>0</td>\n",
       "      <td>1</td>\n",
       "      <td>0</td>\n",
       "      <td>0</td>\n",
       "      <td>0</td>\n",
       "      <td>0</td>\n",
       "      <td>1</td>\n",
       "    </tr>\n",
       "    <tr>\n",
       "      <th>3</th>\n",
       "      <td>M_ID_000087311e</td>\n",
       "      <td>44655</td>\n",
       "      <td>206</td>\n",
       "      <td>1</td>\n",
       "      <td>-0.057471</td>\n",
       "      <td>-0.057471</td>\n",
       "      <td>1</td>\n",
       "      <td>0.93</td>\n",
       "      <td>1.314815</td>\n",
       "      <td>3</td>\n",
       "      <td>0.95</td>\n",
       "      <td>1.300926</td>\n",
       "      <td>6</td>\n",
       "      <td>0.78</td>\n",
       "      <td>1.261574</td>\n",
       "      <td>12</td>\n",
       "      <td>1</td>\n",
       "      <td>-1</td>\n",
       "      <td>-1</td>\n",
       "      <td>NaN</td>\n",
       "      <td>0</td>\n",
       "      <td>0</td>\n",
       "      <td>0</td>\n",
       "      <td>1</td>\n",
       "      <td>0</td>\n",
       "      <td>0</td>\n",
       "      <td>0</td>\n",
       "      <td>0</td>\n",
       "      <td>0</td>\n",
       "      <td>1</td>\n",
       "    </tr>\n",
       "    <tr>\n",
       "      <th>4</th>\n",
       "      <td>M_ID_0000ab0b2d</td>\n",
       "      <td>35761</td>\n",
       "      <td>367</td>\n",
       "      <td>16</td>\n",
       "      <td>-0.057471</td>\n",
       "      <td>-0.057471</td>\n",
       "      <td>0</td>\n",
       "      <td>1.05</td>\n",
       "      <td>1.089897</td>\n",
       "      <td>3</td>\n",
       "      <td>0.99</td>\n",
       "      <td>1.057279</td>\n",
       "      <td>6</td>\n",
       "      <td>1.06</td>\n",
       "      <td>1.135640</td>\n",
       "      <td>12</td>\n",
       "      <td>0</td>\n",
       "      <td>-1</td>\n",
       "      <td>9</td>\n",
       "      <td>1.0</td>\n",
       "      <td>0</td>\n",
       "      <td>0</td>\n",
       "      <td>0</td>\n",
       "      <td>1</td>\n",
       "      <td>0</td>\n",
       "      <td>0</td>\n",
       "      <td>0</td>\n",
       "      <td>0</td>\n",
       "      <td>1</td>\n",
       "      <td>0</td>\n",
       "    </tr>\n",
       "  </tbody>\n",
       "</table>\n",
       "</div>"
      ],
      "text/plain": [
       "       merchant_id  merchant_group_id              ...                most_recent_purchases_range_D  most_recent_purchases_range_E\n",
       "0  M_ID_000025127f              14602              ...                                            0                              1\n",
       "1  M_ID_0000699140              19420              ...                                            1                              0\n",
       "2  M_ID_00006a5552              52848              ...                                            0                              1\n",
       "3  M_ID_000087311e              44655              ...                                            0                              1\n",
       "4  M_ID_0000ab0b2d              35761              ...                                            1                              0\n",
       "\n",
       "[5 rows x 30 columns]"
      ]
     },
     "execution_count": 60,
     "metadata": {},
     "output_type": "execute_result"
    }
   ],
   "source": [
    "unique_merchants.head()"
   ]
  },
  {
   "cell_type": "code",
   "execution_count": 61,
   "metadata": {},
   "outputs": [
    {
     "data": {
      "text/plain": [
       "0    327618\n",
       "1      7015\n",
       "Name: category_1, dtype: int64"
      ]
     },
     "execution_count": 61,
     "metadata": {},
     "output_type": "execute_result"
    }
   ],
   "source": [
    "unique_merchants[\"category_1\"].value_counts()"
   ]
  },
  {
   "cell_type": "code",
   "execution_count": 62,
   "metadata": {},
   "outputs": [],
   "source": [
    "import featuretools.variable_types\n",
    "\n",
    "transactions_variable_types = {\n",
    "'city_id' : featuretools.variable_types.Categorical,\n",
    "'merchant_category_id' : featuretools.variable_types.Categorical,\n",
    "'state_id' : featuretools.variable_types.Categorical,\n",
    "'subsector_id' : featuretools.variable_types.Categorical\n",
    "}\n",
    "\n",
    "merchants_variable_types = {\n",
    "    'merchant_group_id' : featuretools.variable_types.Categorical,\n",
    "    'merchant_category_id' : featuretools.variable_types.Categorical,\n",
    "    'subsector_id' : featuretools.variable_types.Categorical,\n",
    "    'city_id' : featuretools.variable_types.Categorical,\n",
    "    'state_id' : featuretools.variable_types.Categorical,\n",
    "    'category_2' : featuretools.variable_types.Categorical\n",
    "\n",
    "}"
   ]
  },
  {
   "cell_type": "code",
   "execution_count": 63,
   "metadata": {
    "_uuid": "0dc20e12213b8f194230dc2667553eb6ac7d4ea2"
   },
   "outputs": [
    {
     "data": {
      "text/plain": [
       "Entityset: cs\n",
       "  Entities:\n",
       "    transactions [Rows: 31075392, Columns: 21]\n",
       "    card_score [Rows: 325540, Columns: 6]\n",
       "    merchants [Rows: 334633, Columns: 30]\n",
       "  Relationships:\n",
       "    No relationships"
      ]
     },
     "execution_count": 63,
     "metadata": {},
     "output_type": "execute_result"
    }
   ],
   "source": [
    "import featuretools as ft\n",
    "\n",
    "card_score = ft.EntitySet(id = 'cs')\n",
    "card_score.entity_from_dataframe(\n",
    "    entity_id = 'transactions'\n",
    "    , dataframe = all_transactions\n",
    "    , index = 'u_id'\n",
    "    ,variable_types= transactions_variable_types)\n",
    "\n",
    "card_score.entity_from_dataframe(entity_id = 'card_score', dataframe = alldata, index = 'card_id')\n",
    "\n",
    "card_score.entity_from_dataframe(\n",
    "    entity_id = 'merchants',\n",
    "    dataframe = unique_merchants, \n",
    "    index = 'merchant_id',\n",
    "    variable_types = merchants_variable_types\n",
    "    )"
   ]
  },
  {
   "cell_type": "code",
   "execution_count": 64,
   "metadata": {
    "_uuid": "478840e6c201b80c99ecf30f288a84d8fb965848"
   },
   "outputs": [
    {
     "data": {
      "text/plain": [
       "Entityset: cs\n",
       "  Entities:\n",
       "    transactions [Rows: 31075392, Columns: 21]\n",
       "    card_score [Rows: 325540, Columns: 6]\n",
       "    merchants [Rows: 334633, Columns: 30]\n",
       "  Relationships:\n",
       "    transactions.card_id -> card_score.card_id\n",
       "    transactions.merchant_id -> merchants.merchant_id"
      ]
     },
     "execution_count": 64,
     "metadata": {},
     "output_type": "execute_result"
    }
   ],
   "source": [
    "relationship_card_transactions = ft.Relationship(card_score['card_score']['card_id'], card_score['transactions']['card_id'])\n",
    "relationship_merchant_transactions = ft.Relationship(card_score['merchants']['merchant_id'], card_score['transactions']['merchant_id'])\n",
    "card_score.add_relationship(relationship_card_transactions)\n",
    "card_score.add_relationship(relationship_merchant_transactions)"
   ]
  },
  {
   "cell_type": "code",
   "execution_count": 76,
   "metadata": {
    "collapsed": true
   },
   "outputs": [],
   "source": [
    "from dask.distributed import LocalCluster\n",
    "\n",
    "cluster = LocalCluster(processes=False)"
   ]
  },
  {
   "cell_type": "code",
   "execution_count": null,
   "metadata": {
    "_uuid": "33e36af1c49644f764d088186d63eb810b7d41fe",
    "scrolled": true
   },
   "outputs": [
    {
     "name": "stdout",
     "output_type": "stream",
     "text": [
      "Built 801 features\n",
      "2018-12-09 22:15:33,755 featuretools.computational_backend - WARNING    Worker memory is between 1 to 2 times the memory size of the EntitySet. If errors occur that do not occur with n_jobs equals 1, this may be the cause.  See https://docs.featuretools.com/guides/parallel.html for more information.\n"
     ]
    },
    {
     "name": "stderr",
     "output_type": "stream",
     "text": [
      "distributed.comm.inproc - WARNING - Closing dangling queue in <InProc local=inproc://192.168.1.2/15359/8 remote=inproc://192.168.1.2/15359/1>\n",
      "distributed.comm.inproc - WARNING - Closing dangling queue in <InProc local=inproc://192.168.1.2/15359/9 remote=inproc://192.168.1.2/15359/1>\n",
      "distributed.comm.inproc - WARNING - Closing dangling queue in <InProc local=inproc://192.168.1.2/15359/10 remote=inproc://192.168.1.2/15359/1>\n",
      "distributed.comm.inproc - WARNING - Closing dangling queue in <InProc local=inproc://192.168.1.2/15359/11 remote=inproc://192.168.1.2/15359/1>\n",
      "distributed.comm.inproc - WARNING - Closing dangling queue in <InProc local=inproc://192.168.1.2/15359/12 remote=inproc://192.168.1.2/15359/1>\n",
      "distributed.comm.inproc - WARNING - Closing dangling queue in <InProc local=inproc://192.168.1.2/15359/13 remote=inproc://192.168.1.2/15359/1>\n"
     ]
    },
    {
     "name": "stdout",
     "output_type": "stream",
     "text": [
      "EntitySet scattered to workers in 29.845 seconds\n"
     ]
    },
    {
     "name": "stderr",
     "output_type": "stream",
     "text": [
      "distributed.utils - ERROR - '<' not supported between instances of 'NoneType' and 'tuple'\n",
      "Traceback (most recent call last):\n",
      "  File \"/Users/raghavan/anaconda2/envs/py36/lib/python3.6/site-packages/distributed/utils.py\", line 646, in log_errors\n",
      "    yield\n",
      "  File \"/Users/raghavan/anaconda2/envs/py36/lib/python3.6/site-packages/distributed/bokeh/scheduler.py\", line 1126, in graph_doc\n",
      "    graph = GraphPlot(scheduler, sizing_mode='stretch_both')\n",
      "  File \"/Users/raghavan/anaconda2/envs/py36/lib/python3.6/site-packages/distributed/bokeh/scheduler.py\", line 609, in __init__\n",
      "    self.layout = GraphLayout(scheduler)\n",
      "  File \"/Users/raghavan/anaconda2/envs/py36/lib/python3.6/site-packages/distributed/diagnostics/graph_layout.py\", line 38, in __init__\n",
      "    priority=priority)\n",
      "  File \"/Users/raghavan/anaconda2/envs/py36/lib/python3.6/site-packages/distributed/diagnostics/graph_layout.py\", line 42, in update_graph\n",
      "    stack = sorted(dependencies, key=priority.get, reverse=True)\n",
      "TypeError: '<' not supported between instances of 'NoneType' and 'tuple'\n",
      "tornado.application - ERROR - Uncaught exception GET /graph (::1)\n",
      "HTTPServerRequest(protocol='http', host='localhost:8787', method='GET', uri='/graph', version='HTTP/1.1', remote_ip='::1')\n",
      "Traceback (most recent call last):\n",
      "  File \"/Users/raghavan/anaconda2/envs/py36/lib/python3.6/site-packages/tornado/web.py\", line 1592, in _execute\n",
      "    result = yield result\n",
      "  File \"/Users/raghavan/anaconda2/envs/py36/lib/python3.6/site-packages/tornado/gen.py\", line 1133, in run\n",
      "    value = future.result()\n",
      "  File \"/Users/raghavan/anaconda2/envs/py36/lib/python3.6/site-packages/tornado/gen.py\", line 1141, in run\n",
      "    yielded = self.gen.throw(*exc_info)\n",
      "  File \"/Users/raghavan/anaconda2/envs/py36/lib/python3.6/site-packages/bokeh/server/views/doc_handler.py\", line 21, in get\n",
      "    session = yield self.get_session()\n",
      "  File \"/Users/raghavan/anaconda2/envs/py36/lib/python3.6/site-packages/tornado/gen.py\", line 1133, in run\n",
      "    value = future.result()\n",
      "  File \"/Users/raghavan/anaconda2/envs/py36/lib/python3.6/site-packages/tornado/gen.py\", line 1141, in run\n",
      "    yielded = self.gen.throw(*exc_info)\n",
      "  File \"/Users/raghavan/anaconda2/envs/py36/lib/python3.6/site-packages/bokeh/server/views/session_handler.py\", line 43, in get_session\n",
      "    session = yield self.application_context.create_session_if_needed(session_id, self.request)\n",
      "  File \"/Users/raghavan/anaconda2/envs/py36/lib/python3.6/site-packages/tornado/gen.py\", line 1133, in run\n",
      "    value = future.result()\n",
      "  File \"/Users/raghavan/anaconda2/envs/py36/lib/python3.6/site-packages/tornado/gen.py\", line 1147, in run\n",
      "    yielded = self.gen.send(value)\n",
      "  File \"/Users/raghavan/anaconda2/envs/py36/lib/python3.6/site-packages/bokeh/server/application_context.py\", line 182, in create_session_if_needed\n",
      "    self._application.initialize_document(doc)\n",
      "  File \"/Users/raghavan/anaconda2/envs/py36/lib/python3.6/site-packages/bokeh/application/application.py\", line 169, in initialize_document\n",
      "    h.modify_document(doc)\n",
      "  File \"/Users/raghavan/anaconda2/envs/py36/lib/python3.6/site-packages/bokeh/application/handlers/function.py\", line 126, in modify_document\n",
      "    self._func(doc)\n",
      "  File \"/Users/raghavan/anaconda2/envs/py36/lib/python3.6/site-packages/distributed/bokeh/scheduler.py\", line 1126, in graph_doc\n",
      "    graph = GraphPlot(scheduler, sizing_mode='stretch_both')\n",
      "  File \"/Users/raghavan/anaconda2/envs/py36/lib/python3.6/site-packages/distributed/bokeh/scheduler.py\", line 609, in __init__\n",
      "    self.layout = GraphLayout(scheduler)\n",
      "  File \"/Users/raghavan/anaconda2/envs/py36/lib/python3.6/site-packages/distributed/diagnostics/graph_layout.py\", line 38, in __init__\n",
      "    priority=priority)\n",
      "  File \"/Users/raghavan/anaconda2/envs/py36/lib/python3.6/site-packages/distributed/diagnostics/graph_layout.py\", line 42, in update_graph\n",
      "    stack = sorted(dependencies, key=priority.get, reverse=True)\n",
      "TypeError: '<' not supported between instances of 'NoneType' and 'tuple'\n",
      "Exception ignored in: <bound method GraphPlot.__del__ of <distributed.bokeh.scheduler.GraphPlot object at 0x1a72bd3b70>>\n",
      "Traceback (most recent call last):\n",
      "  File \"/Users/raghavan/anaconda2/envs/py36/lib/python3.6/site-packages/distributed/bokeh/scheduler.py\", line 741, in __del__\n",
      "    self.scheduler.remove_plugin(self.layout)\n",
      "AttributeError: 'GraphPlot' object has no attribute 'layout'\n",
      "distributed.comm.tcp - WARNING - Closing dangling stream in <TCP local=tcp://127.0.0.1:56226 remote=tcp://127.0.0.1:52288>\n",
      "distributed.comm.tcp - WARNING - Closing dangling stream in <TCP local=tcp://127.0.0.1:56227 remote=tcp://127.0.0.1:52288>\n",
      "distributed.comm.tcp - WARNING - Closing dangling stream in <TCP local=tcp://127.0.0.1:56230 remote=tcp://127.0.0.1:52315>\n",
      "distributed.comm.tcp - WARNING - Closing dangling stream in <TCP local=tcp://127.0.0.1:56236 remote=tcp://127.0.0.1:52288>\n",
      "distributed.comm.tcp - WARNING - Closing dangling stream in <TCP local=tcp://127.0.0.1:56237 remote=tcp://127.0.0.1:52288>\n",
      "distributed.comm.tcp - WARNING - Closing dangling stream in <TCP local=tcp://127.0.0.1:56238 remote=tcp://127.0.0.1:52315>\n",
      "distributed.comm.tcp - WARNING - Closing dangling stream in <TCP local=tcp://127.0.0.1:56239 remote=tcp://127.0.0.1:52288>\n",
      "distributed.comm.tcp - WARNING - Closing dangling stream in <TCP local=tcp://127.0.0.1:56240 remote=tcp://127.0.0.1:52315>\n",
      "distributed.comm.inproc - WARNING - Closing dangling queue in <InProc local=inproc://192.168.1.2/15359/19 remote=inproc://192.168.1.2/15359/1>\n",
      "distributed.comm.inproc - WARNING - Closing dangling queue in <InProc local=inproc://192.168.1.2/15359/20 remote=inproc://192.168.1.2/15359/1>\n",
      "distributed.comm.inproc - WARNING - Closing dangling queue in <InProc local=inproc://192.168.1.2/15359/21 remote=inproc://192.168.1.2/15359/1>\n",
      "distributed.comm.inproc - WARNING - Closing dangling queue in <InProc local=inproc://192.168.1.2/15359/22 remote=inproc://192.168.1.2/15359/1>\n",
      "distributed.comm.inproc - WARNING - Closing dangling queue in <InProc local=inproc://192.168.1.2/15359/23 remote=inproc://192.168.1.2/15359/1>\n",
      "distributed.comm.inproc - WARNING - Closing dangling queue in <InProc local=inproc://192.168.1.2/15359/24 remote=inproc://192.168.1.2/15359/1>\n",
      "distributed.comm.inproc - WARNING - Closing dangling queue in <InProc local=inproc://192.168.1.2/15359/25 remote=inproc://192.168.1.2/15359/1>\n",
      "distributed.comm.tcp - WARNING - Closing dangling stream in <TCP local=tcp://127.0.0.1:56283 remote=tcp://127.0.0.1:52288>\n",
      "distributed.comm.tcp - WARNING - Closing dangling stream in <TCP local=tcp://127.0.0.1:56285 remote=tcp://127.0.0.1:52288>\n",
      "distributed.comm.tcp - WARNING - Closing dangling stream in <TCP local=tcp://127.0.0.1:56303 remote=tcp://127.0.0.1:52315>\n",
      "distributed.comm.tcp - WARNING - Closing dangling stream in <TCP local=tcp://127.0.0.1:56319 remote=tcp://127.0.0.1:52315>\n",
      "distributed.comm.tcp - WARNING - Closing dangling stream in <TCP local=tcp://127.0.0.1:56320 remote=tcp://127.0.0.1:52315>\n",
      "distributed.comm.tcp - WARNING - Closing dangling stream in <TCP local=tcp://127.0.0.1:56318 remote=tcp://127.0.0.1:52288>\n",
      "distributed.comm.inproc - WARNING - Closing dangling queue in <InProc local=inproc://192.168.1.2/15359/26 remote=inproc://192.168.1.2/15359/1>\n",
      "distributed.comm.inproc - WARNING - Closing dangling queue in <InProc local=inproc://192.168.1.2/15359/27 remote=inproc://192.168.1.2/15359/1>\n",
      "distributed.comm.inproc - WARNING - Closing dangling queue in <InProc local=inproc://192.168.1.2/15359/28 remote=inproc://192.168.1.2/15359/1>\n",
      "distributed.comm.inproc - WARNING - Closing dangling queue in <InProc local=inproc://192.168.1.2/15359/29 remote=inproc://192.168.1.2/15359/1>\n",
      "distributed.comm.inproc - WARNING - Closing dangling queue in <InProc local=inproc://192.168.1.2/15359/30 remote=inproc://192.168.1.2/15359/1>\n",
      "distributed.comm.inproc - WARNING - Closing dangling queue in <InProc local=inproc://192.168.1.2/15359/31 remote=inproc://192.168.1.2/15359/1>\n",
      "distributed.comm.inproc - WARNING - Closing dangling queue in <InProc local=inproc://192.168.1.2/15359/32 remote=inproc://192.168.1.2/15359/1>\n",
      "distributed.comm.inproc - WARNING - Closing dangling queue in <InProc local=inproc://192.168.1.2/15359/33 remote=inproc://192.168.1.2/15359/1>\n"
     ]
    },
    {
     "name": "stderr",
     "output_type": "stream",
     "text": [
      "distributed.comm.inproc - WARNING - Closing dangling queue in <InProc local=inproc://192.168.1.2/15359/34 remote=inproc://192.168.1.2/15359/1>\n",
      "distributed.comm.inproc - WARNING - Closing dangling queue in <InProc local=inproc://192.168.1.2/15359/35 remote=inproc://192.168.1.2/15359/1>\n",
      "distributed.comm.inproc - WARNING - Closing dangling queue in <InProc local=inproc://192.168.1.2/15359/36 remote=inproc://192.168.1.2/15359/1>\n",
      "distributed.comm.inproc - WARNING - Closing dangling queue in <InProc local=inproc://192.168.1.2/15359/37 remote=inproc://192.168.1.2/15359/1>\n",
      "distributed.comm.inproc - WARNING - Closing dangling queue in <InProc local=inproc://192.168.1.2/15359/38 remote=inproc://192.168.1.2/15359/1>\n",
      "distributed.comm.inproc - WARNING - Closing dangling queue in <InProc local=inproc://192.168.1.2/15359/39 remote=inproc://192.168.1.2/15359/1>\n",
      "distributed.comm.inproc - WARNING - Closing dangling queue in <InProc local=inproc://192.168.1.2/15359/40 remote=inproc://192.168.1.2/15359/1>\n",
      "distributed.comm.inproc - WARNING - Closing dangling queue in <InProc local=inproc://192.168.1.2/15359/41 remote=inproc://192.168.1.2/15359/1>\n",
      "distributed.comm.inproc - WARNING - Closing dangling queue in <InProc local=inproc://192.168.1.2/15359/42 remote=inproc://192.168.1.2/15359/1>\n",
      "distributed.comm.inproc - WARNING - Closing dangling queue in <InProc local=inproc://192.168.1.2/15359/43 remote=inproc://192.168.1.2/15359/1>\n",
      "distributed.comm.inproc - WARNING - Closing dangling queue in <InProc local=inproc://192.168.1.2/15359/44 remote=inproc://192.168.1.2/15359/1>\n",
      "distributed.comm.inproc - WARNING - Closing dangling queue in <InProc local=inproc://192.168.1.2/15359/45 remote=inproc://192.168.1.2/15359/1>\n",
      "distributed.comm.inproc - WARNING - Closing dangling queue in <InProc local=inproc://192.168.1.2/15359/46 remote=inproc://192.168.1.2/15359/1>\n",
      "distributed.comm.inproc - WARNING - Closing dangling queue in <InProc local=inproc://192.168.1.2/15359/47 remote=inproc://192.168.1.2/15359/1>\n",
      "distributed.comm.inproc - WARNING - Closing dangling queue in <InProc local=inproc://192.168.1.2/15359/48 remote=inproc://192.168.1.2/15359/1>\n",
      "distributed.comm.inproc - WARNING - Closing dangling queue in <InProc local=inproc://192.168.1.2/15359/49 remote=inproc://192.168.1.2/15359/1>\n",
      "distributed.comm.inproc - WARNING - Closing dangling queue in <InProc local=inproc://192.168.1.2/15359/50 remote=inproc://192.168.1.2/15359/1>\n",
      "distributed.comm.inproc - WARNING - Closing dangling queue in <InProc local=inproc://192.168.1.2/15359/51 remote=inproc://192.168.1.2/15359/1>\n",
      "distributed.comm.inproc - WARNING - Closing dangling queue in <InProc local=inproc://192.168.1.2/15359/52 remote=inproc://192.168.1.2/15359/1>\n",
      "distributed.comm.inproc - WARNING - Closing dangling queue in <InProc local=inproc://192.168.1.2/15359/53 remote=inproc://192.168.1.2/15359/1>\n",
      "distributed.comm.inproc - WARNING - Closing dangling queue in <InProc local=inproc://192.168.1.2/15359/54 remote=inproc://192.168.1.2/15359/1>\n",
      "distributed.comm.inproc - WARNING - Closing dangling queue in <InProc local=inproc://192.168.1.2/15359/55 remote=inproc://192.168.1.2/15359/1>\n",
      "distributed.comm.inproc - WARNING - Closing dangling queue in <InProc local=inproc://192.168.1.2/15359/56 remote=inproc://192.168.1.2/15359/1>\n",
      "distributed.comm.inproc - WARNING - Closing dangling queue in <InProc local=inproc://192.168.1.2/15359/57 remote=inproc://192.168.1.2/15359/1>\n",
      "distributed.comm.inproc - WARNING - Closing dangling queue in <InProc local=inproc://192.168.1.2/15359/58 remote=inproc://192.168.1.2/15359/1>\n",
      "distributed.comm.inproc - WARNING - Closing dangling queue in <InProc local=inproc://192.168.1.2/15359/59 remote=inproc://192.168.1.2/15359/1>\n",
      "distributed.comm.inproc - WARNING - Closing dangling queue in <InProc local=inproc://192.168.1.2/15359/60 remote=inproc://192.168.1.2/15359/1>\n",
      "distributed.comm.inproc - WARNING - Closing dangling queue in <InProc local=inproc://192.168.1.2/15359/61 remote=inproc://192.168.1.2/15359/1>\n",
      "distributed.comm.inproc - WARNING - Closing dangling queue in <InProc local=inproc://192.168.1.2/15359/62 remote=inproc://192.168.1.2/15359/1>\n",
      "distributed.comm.inproc - WARNING - Closing dangling queue in <InProc local=inproc://192.168.1.2/15359/63 remote=inproc://192.168.1.2/15359/1>\n",
      "distributed.comm.inproc - WARNING - Closing dangling queue in <InProc local=inproc://192.168.1.2/15359/64 remote=inproc://192.168.1.2/15359/1>\n",
      "distributed.comm.inproc - WARNING - Closing dangling queue in <InProc local=inproc://192.168.1.2/15359/65 remote=inproc://192.168.1.2/15359/1>\n",
      "distributed.comm.inproc - WARNING - Closing dangling queue in <InProc local=inproc://192.168.1.2/15359/66 remote=inproc://192.168.1.2/15359/1>\n",
      "distributed.comm.inproc - WARNING - Closing dangling queue in <InProc local=inproc://192.168.1.2/15359/67 remote=inproc://192.168.1.2/15359/1>\n",
      "distributed.comm.inproc - WARNING - Closing dangling queue in <InProc local=inproc://192.168.1.2/15359/68 remote=inproc://192.168.1.2/15359/1>\n",
      "distributed.comm.inproc - WARNING - Closing dangling queue in <InProc local=inproc://192.168.1.2/15359/69 remote=inproc://192.168.1.2/15359/1>\n",
      "distributed.comm.inproc - WARNING - Closing dangling queue in <InProc local=inproc://192.168.1.2/15359/70 remote=inproc://192.168.1.2/15359/1>\n",
      "distributed.comm.inproc - WARNING - Closing dangling queue in <InProc local=inproc://192.168.1.2/15359/71 remote=inproc://192.168.1.2/15359/1>\n",
      "distributed.comm.inproc - WARNING - Closing dangling queue in <InProc local=inproc://192.168.1.2/15359/72 remote=inproc://192.168.1.2/15359/1>\n"
     ]
    },
    {
     "name": "stdout",
     "output_type": "stream",
     "text": [
      "\n",
      "\n",
      "\n",
      "\n",
      "\n",
      "Elapsed: 00:00 | Remaining: ? | Progress:   0%|          | Calculated: 0/32554 chunks\u001b[A\u001b[A\u001b[A\u001b[A\u001b[A"
     ]
    }
   ],
   "source": [
    "features, feature_names = ft.dfs(entityset=card_score,target_entity='card_score',max_depth=4,verbose=True,chunk_size=10,dask_kwargs={'cluster': cluster})"
   ]
  },
  {
   "cell_type": "code",
   "execution_count": null,
   "metadata": {
    "_uuid": "23ae7b39a56f85aba37a95de5ee52076cf900662"
   },
   "outputs": [],
   "source": [
    "print(feature_names)"
   ]
  },
  {
   "cell_type": "code",
   "execution_count": null,
   "metadata": {},
   "outputs": [],
   "source": [
    "features.head()"
   ]
  },
  {
   "cell_type": "code",
   "execution_count": null,
   "metadata": {
    "_uuid": "ca79234d4b69375a2ef013265b25352eb3a7429e",
    "collapsed": true
   },
   "outputs": [],
   "source": [
    "features.to_csv(\"features_8.csv\")"
   ]
  },
  {
   "cell_type": "code",
   "execution_count": null,
   "metadata": {
    "collapsed": true
   },
   "outputs": [],
   "source": []
  },
  {
   "cell_type": "code",
   "execution_count": null,
   "metadata": {
    "collapsed": true
   },
   "outputs": [],
   "source": []
  },
  {
   "cell_type": "code",
   "execution_count": null,
   "metadata": {
    "collapsed": true
   },
   "outputs": [],
   "source": []
  }
 ],
 "metadata": {
  "kernelspec": {
   "display_name": "Python [conda env:py36]",
   "language": "python",
   "name": "conda-env-py36-py"
  },
  "language_info": {
   "codemirror_mode": {
    "name": "ipython",
    "version": 3
   },
   "file_extension": ".py",
   "mimetype": "text/x-python",
   "name": "python",
   "nbconvert_exporter": "python",
   "pygments_lexer": "ipython3",
   "version": "3.6.6"
  }
 },
 "nbformat": 4,
 "nbformat_minor": 1
}
